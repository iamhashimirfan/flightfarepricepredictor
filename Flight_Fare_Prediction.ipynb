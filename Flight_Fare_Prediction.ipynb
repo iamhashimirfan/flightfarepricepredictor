{
 "cells": [
  {
   "cell_type": "code",
   "execution_count": 1,
   "metadata": {
    "colab": {
     "base_uri": "https://localhost:8080/",
     "height": 72
    },
    "colab_type": "code",
    "executionInfo": {
     "elapsed": 4111,
     "status": "ok",
     "timestamp": 1594621627173,
     "user": {
      "displayName": "Soumya Mukherjee",
      "photoUrl": "https://lh3.googleusercontent.com/a-/AOh14GjsNLxeyhJYUq7v4GVjhxLJwHnUNQHnU7IouRdjYw=s64",
      "userId": "12914492972692522370"
     },
     "user_tz": -330
    },
    "id": "1XvrLp9Rbjaw",
    "outputId": "bc708c4f-e5c9-46be-da3f-3cdd81c24f43"
   },
   "outputs": [
    {
     "name": "stderr",
     "output_type": "stream",
     "text": [
      "/usr/local/lib/python3.6/dist-packages/statsmodels/tools/_testing.py:19: FutureWarning: pandas.util.testing is deprecated. Use the functions in the public API at pandas.testing instead.\n",
      "  import pandas.util.testing as tm\n"
     ]
    }
   ],
   "source": [
    "import pandas as pd\n",
    "import numpy as np\n",
    "import matplotlib.pyplot as plt\n",
    "import seaborn as sns\n",
    "import plotly.express as px\n",
    "from sklearn.experimental import enable_hist_gradient_boosting\n",
    "from sklearn.ensemble import HistGradientBoostingRegressor\n",
    "from sklearn.ensemble import ExtraTreesRegressor, RandomForestRegressor\n",
    "from xgboost import XGBRegressor\n",
    "import lightgbm as lgb\n",
    "from sklearn.model_selection import train_test_split, RandomizedSearchCV\n",
    "from sklearn.linear_model import LinearRegression\n",
    "from sklearn.svm import SVR\n",
    "from sklearn.metrics import mean_absolute_error, mean_squared_error, r2_score\n",
    "import pickle"
   ]
  },
  {
   "cell_type": "code",
   "execution_count": 2,
   "metadata": {
    "colab": {},
    "colab_type": "code",
    "executionInfo": {
     "elapsed": 6570,
     "status": "ok",
     "timestamp": 1594621629642,
     "user": {
      "displayName": "Soumya Mukherjee",
      "photoUrl": "https://lh3.googleusercontent.com/a-/AOh14GjsNLxeyhJYUq7v4GVjhxLJwHnUNQHnU7IouRdjYw=s64",
      "userId": "12914492972692522370"
     },
     "user_tz": -330
    },
    "id": "sOdYLpArb3q0"
   },
   "outputs": [],
   "source": [
    "train_df = pd.read_excel('datasets_140442_330428_Data_Train.xlsx', sheet_name='Sheet1')\n",
    "test_df = pd.read_excel('datasets_140442_330428_Test_set.xlsx', sheet_name='Sheet1')"
   ]
  },
  {
   "cell_type": "code",
   "execution_count": 3,
   "metadata": {
    "colab": {
     "base_uri": "https://localhost:8080/",
     "height": 52
    },
    "colab_type": "code",
    "executionInfo": {
     "elapsed": 6551,
     "status": "ok",
     "timestamp": 1594621629643,
     "user": {
      "displayName": "Soumya Mukherjee",
      "photoUrl": "https://lh3.googleusercontent.com/a-/AOh14GjsNLxeyhJYUq7v4GVjhxLJwHnUNQHnU7IouRdjYw=s64",
      "userId": "12914492972692522370"
     },
     "user_tz": -330
    },
    "id": "lAJ0rFOzb_pQ",
    "outputId": "bf2f4c1f-70d4-4ed9-bb9f-835f07982b57"
   },
   "outputs": [
    {
     "name": "stdout",
     "output_type": "stream",
     "text": [
      "(10683, 11)\n",
      "(2671, 10)\n"
     ]
    }
   ],
   "source": [
    "print(train_df.shape)\n",
    "print(test_df.shape)"
   ]
  },
  {
   "cell_type": "code",
   "execution_count": 4,
   "metadata": {
    "colab": {
     "base_uri": "https://localhost:8080/",
     "height": 206
    },
    "colab_type": "code",
    "executionInfo": {
     "elapsed": 6533,
     "status": "ok",
     "timestamp": 1594621629645,
     "user": {
      "displayName": "Soumya Mukherjee",
      "photoUrl": "https://lh3.googleusercontent.com/a-/AOh14GjsNLxeyhJYUq7v4GVjhxLJwHnUNQHnU7IouRdjYw=s64",
      "userId": "12914492972692522370"
     },
     "user_tz": -330
    },
    "id": "VIGS1EMUcrG4",
    "outputId": "44ce4d85-25cc-465e-c1da-5f350dd08476"
   },
   "outputs": [
    {
     "data": {
      "text/html": [
       "<div>\n",
       "<style scoped>\n",
       "    .dataframe tbody tr th:only-of-type {\n",
       "        vertical-align: middle;\n",
       "    }\n",
       "\n",
       "    .dataframe tbody tr th {\n",
       "        vertical-align: top;\n",
       "    }\n",
       "\n",
       "    .dataframe thead th {\n",
       "        text-align: right;\n",
       "    }\n",
       "</style>\n",
       "<table border=\"1\" class=\"dataframe\">\n",
       "  <thead>\n",
       "    <tr style=\"text-align: right;\">\n",
       "      <th></th>\n",
       "      <th>Airline</th>\n",
       "      <th>Date_of_Journey</th>\n",
       "      <th>Source</th>\n",
       "      <th>Destination</th>\n",
       "      <th>Route</th>\n",
       "      <th>Dep_Time</th>\n",
       "      <th>Arrival_Time</th>\n",
       "      <th>Duration</th>\n",
       "      <th>Total_Stops</th>\n",
       "      <th>Additional_Info</th>\n",
       "      <th>Price</th>\n",
       "    </tr>\n",
       "  </thead>\n",
       "  <tbody>\n",
       "    <tr>\n",
       "      <th>0</th>\n",
       "      <td>IndiGo</td>\n",
       "      <td>24/03/2019</td>\n",
       "      <td>Banglore</td>\n",
       "      <td>New Delhi</td>\n",
       "      <td>BLR → DEL</td>\n",
       "      <td>22:20</td>\n",
       "      <td>01:10 22 Mar</td>\n",
       "      <td>2h 50m</td>\n",
       "      <td>non-stop</td>\n",
       "      <td>No info</td>\n",
       "      <td>3897</td>\n",
       "    </tr>\n",
       "    <tr>\n",
       "      <th>1</th>\n",
       "      <td>Air India</td>\n",
       "      <td>1/05/2019</td>\n",
       "      <td>Kolkata</td>\n",
       "      <td>Banglore</td>\n",
       "      <td>CCU → IXR → BBI → BLR</td>\n",
       "      <td>05:50</td>\n",
       "      <td>13:15</td>\n",
       "      <td>7h 25m</td>\n",
       "      <td>2 stops</td>\n",
       "      <td>No info</td>\n",
       "      <td>7662</td>\n",
       "    </tr>\n",
       "    <tr>\n",
       "      <th>2</th>\n",
       "      <td>Jet Airways</td>\n",
       "      <td>9/06/2019</td>\n",
       "      <td>Delhi</td>\n",
       "      <td>Cochin</td>\n",
       "      <td>DEL → LKO → BOM → COK</td>\n",
       "      <td>09:25</td>\n",
       "      <td>04:25 10 Jun</td>\n",
       "      <td>19h</td>\n",
       "      <td>2 stops</td>\n",
       "      <td>No info</td>\n",
       "      <td>13882</td>\n",
       "    </tr>\n",
       "    <tr>\n",
       "      <th>3</th>\n",
       "      <td>IndiGo</td>\n",
       "      <td>12/05/2019</td>\n",
       "      <td>Kolkata</td>\n",
       "      <td>Banglore</td>\n",
       "      <td>CCU → NAG → BLR</td>\n",
       "      <td>18:05</td>\n",
       "      <td>23:30</td>\n",
       "      <td>5h 25m</td>\n",
       "      <td>1 stop</td>\n",
       "      <td>No info</td>\n",
       "      <td>6218</td>\n",
       "    </tr>\n",
       "    <tr>\n",
       "      <th>4</th>\n",
       "      <td>IndiGo</td>\n",
       "      <td>01/03/2019</td>\n",
       "      <td>Banglore</td>\n",
       "      <td>New Delhi</td>\n",
       "      <td>BLR → NAG → DEL</td>\n",
       "      <td>16:50</td>\n",
       "      <td>21:35</td>\n",
       "      <td>4h 45m</td>\n",
       "      <td>1 stop</td>\n",
       "      <td>No info</td>\n",
       "      <td>13302</td>\n",
       "    </tr>\n",
       "  </tbody>\n",
       "</table>\n",
       "</div>"
      ],
      "text/plain": [
       "       Airline Date_of_Journey    Source  ... Total_Stops Additional_Info  Price\n",
       "0       IndiGo      24/03/2019  Banglore  ...    non-stop         No info   3897\n",
       "1    Air India       1/05/2019   Kolkata  ...     2 stops         No info   7662\n",
       "2  Jet Airways       9/06/2019     Delhi  ...     2 stops         No info  13882\n",
       "3       IndiGo      12/05/2019   Kolkata  ...      1 stop         No info   6218\n",
       "4       IndiGo      01/03/2019  Banglore  ...      1 stop         No info  13302\n",
       "\n",
       "[5 rows x 11 columns]"
      ]
     },
     "execution_count": 4,
     "metadata": {
      "tags": []
     },
     "output_type": "execute_result"
    }
   ],
   "source": [
    "train_df.head()"
   ]
  },
  {
   "cell_type": "code",
   "execution_count": 5,
   "metadata": {
    "colab": {},
    "colab_type": "code",
    "executionInfo": {
     "elapsed": 6530,
     "status": "ok",
     "timestamp": 1594621629648,
     "user": {
      "displayName": "Soumya Mukherjee",
      "photoUrl": "https://lh3.googleusercontent.com/a-/AOh14GjsNLxeyhJYUq7v4GVjhxLJwHnUNQHnU7IouRdjYw=s64",
      "userId": "12914492972692522370"
     },
     "user_tz": -330
    },
    "id": "J3kwuT3ucuIi"
   },
   "outputs": [],
   "source": [
    "train_df['Additional_Info'].unique()\n",
    "\n",
    "# Here Additional info & Route  doesn't provide any value in predicting Price. hence removing this column.\n",
    "remove_col = ['Additional_Info','Route']"
   ]
  },
  {
   "cell_type": "code",
   "execution_count": 6,
   "metadata": {
    "colab": {
     "base_uri": "https://localhost:8080/",
     "height": 330
    },
    "colab_type": "code",
    "executionInfo": {
     "elapsed": 6513,
     "status": "ok",
     "timestamp": 1594621629650,
     "user": {
      "displayName": "Soumya Mukherjee",
      "photoUrl": "https://lh3.googleusercontent.com/a-/AOh14GjsNLxeyhJYUq7v4GVjhxLJwHnUNQHnU7IouRdjYw=s64",
      "userId": "12914492972692522370"
     },
     "user_tz": -330
    },
    "id": "ZnVSLhlLc9hf",
    "outputId": "61f156b4-462c-4a14-cad3-fb1d77d557b7"
   },
   "outputs": [
    {
     "name": "stdout",
     "output_type": "stream",
     "text": [
      "<class 'pandas.core.frame.DataFrame'>\n",
      "RangeIndex: 10683 entries, 0 to 10682\n",
      "Data columns (total 11 columns):\n",
      " #   Column           Non-Null Count  Dtype \n",
      "---  ------           --------------  ----- \n",
      " 0   Airline          10683 non-null  object\n",
      " 1   Date_of_Journey  10683 non-null  object\n",
      " 2   Source           10683 non-null  object\n",
      " 3   Destination      10683 non-null  object\n",
      " 4   Route            10682 non-null  object\n",
      " 5   Dep_Time         10683 non-null  object\n",
      " 6   Arrival_Time     10683 non-null  object\n",
      " 7   Duration         10683 non-null  object\n",
      " 8   Total_Stops      10682 non-null  object\n",
      " 9   Additional_Info  10683 non-null  object\n",
      " 10  Price            10683 non-null  int64 \n",
      "dtypes: int64(1), object(10)\n",
      "memory usage: 918.2+ KB\n"
     ]
    }
   ],
   "source": [
    "train_df.info()\n",
    "\n",
    "# Here price is only integer column and rest are object"
   ]
  },
  {
   "cell_type": "code",
   "execution_count": 7,
   "metadata": {
    "colab": {
     "base_uri": "https://localhost:8080/",
     "height": 81
    },
    "colab_type": "code",
    "executionInfo": {
     "elapsed": 6496,
     "status": "ok",
     "timestamp": 1594621629651,
     "user": {
      "displayName": "Soumya Mukherjee",
      "photoUrl": "https://lh3.googleusercontent.com/a-/AOh14GjsNLxeyhJYUq7v4GVjhxLJwHnUNQHnU7IouRdjYw=s64",
      "userId": "12914492972692522370"
     },
     "user_tz": -330
    },
    "id": "R4mv8nY6dFso",
    "outputId": "887002ea-88b9-4a87-ffc2-bfd6bb8c70c4"
   },
   "outputs": [
    {
     "data": {
      "text/html": [
       "<div>\n",
       "<style scoped>\n",
       "    .dataframe tbody tr th:only-of-type {\n",
       "        vertical-align: middle;\n",
       "    }\n",
       "\n",
       "    .dataframe tbody tr th {\n",
       "        vertical-align: top;\n",
       "    }\n",
       "\n",
       "    .dataframe thead th {\n",
       "        text-align: right;\n",
       "    }\n",
       "</style>\n",
       "<table border=\"1\" class=\"dataframe\">\n",
       "  <thead>\n",
       "    <tr style=\"text-align: right;\">\n",
       "      <th></th>\n",
       "      <th>Airline</th>\n",
       "      <th>Date_of_Journey</th>\n",
       "      <th>Source</th>\n",
       "      <th>Destination</th>\n",
       "      <th>Route</th>\n",
       "      <th>Dep_Time</th>\n",
       "      <th>Arrival_Time</th>\n",
       "      <th>Duration</th>\n",
       "      <th>Total_Stops</th>\n",
       "      <th>Additional_Info</th>\n",
       "      <th>Price</th>\n",
       "    </tr>\n",
       "  </thead>\n",
       "  <tbody>\n",
       "    <tr>\n",
       "      <th>9039</th>\n",
       "      <td>Air India</td>\n",
       "      <td>6/05/2019</td>\n",
       "      <td>Delhi</td>\n",
       "      <td>Cochin</td>\n",
       "      <td>NaN</td>\n",
       "      <td>09:45</td>\n",
       "      <td>09:25 07 May</td>\n",
       "      <td>23h 40m</td>\n",
       "      <td>NaN</td>\n",
       "      <td>No info</td>\n",
       "      <td>7480</td>\n",
       "    </tr>\n",
       "  </tbody>\n",
       "</table>\n",
       "</div>"
      ],
      "text/plain": [
       "        Airline Date_of_Journey Source  ... Total_Stops Additional_Info Price\n",
       "9039  Air India       6/05/2019  Delhi  ...         NaN         No info  7480\n",
       "\n",
       "[1 rows x 11 columns]"
      ]
     },
     "execution_count": 7,
     "metadata": {
      "tags": []
     },
     "output_type": "execute_result"
    }
   ],
   "source": [
    "# we have only one missing record in dataset. Let's see the record. If possible will fill with valid info \n",
    "train_df[train_df['Route'].isnull()]"
   ]
  },
  {
   "cell_type": "code",
   "execution_count": 8,
   "metadata": {
    "colab": {
     "base_uri": "https://localhost:8080/",
     "height": 225
    },
    "colab_type": "code",
    "executionInfo": {
     "elapsed": 6480,
     "status": "ok",
     "timestamp": 1594621629653,
     "user": {
      "displayName": "Soumya Mukherjee",
      "photoUrl": "https://lh3.googleusercontent.com/a-/AOh14GjsNLxeyhJYUq7v4GVjhxLJwHnUNQHnU7IouRdjYw=s64",
      "userId": "12914492972692522370"
     },
     "user_tz": -330
    },
    "id": "xYIjmlOK5wuu",
    "outputId": "8ecbd8b3-b095-4226-a42b-7b70053997d6"
   },
   "outputs": [
    {
     "data": {
      "text/plain": [
       "Airline            0\n",
       "Date_of_Journey    0\n",
       "Source             0\n",
       "Destination        0\n",
       "Route              0\n",
       "Dep_Time           0\n",
       "Arrival_Time       0\n",
       "Duration           0\n",
       "Total_Stops        0\n",
       "Additional_Info    0\n",
       "Price              0\n",
       "dtype: int64"
      ]
     },
     "execution_count": 8,
     "metadata": {
      "tags": []
     },
     "output_type": "execute_result"
    }
   ],
   "source": [
    "# Flight departure time is 09:45 06th May,2019 and arrival time is 09:25 07th May,2019... We don't have any info of Route and Total_Stops. \n",
    "# As per knowledge, flight is having 1 stop. But not sure. Hence am removing this row.\n",
    "train_df.dropna(axis=0, how='any', inplace=True)\n",
    "# let's check flight price after removing null value\n",
    "train_df.isnull().sum()"
   ]
  },
  {
   "cell_type": "code",
   "execution_count": 9,
   "metadata": {
    "colab": {
     "base_uri": "https://localhost:8080/",
     "height": 312
    },
    "colab_type": "code",
    "executionInfo": {
     "elapsed": 6464,
     "status": "ok",
     "timestamp": 1594621629654,
     "user": {
      "displayName": "Soumya Mukherjee",
      "photoUrl": "https://lh3.googleusercontent.com/a-/AOh14GjsNLxeyhJYUq7v4GVjhxLJwHnUNQHnU7IouRdjYw=s64",
      "userId": "12914492972692522370"
     },
     "user_tz": -330
    },
    "id": "CcAZaZoy2AhU",
    "outputId": "966523f4-892c-4b0d-b415-fb7907267afd"
   },
   "outputs": [
    {
     "name": "stdout",
     "output_type": "stream",
     "text": [
      "<class 'pandas.core.frame.DataFrame'>\n",
      "RangeIndex: 2671 entries, 0 to 2670\n",
      "Data columns (total 10 columns):\n",
      " #   Column           Non-Null Count  Dtype \n",
      "---  ------           --------------  ----- \n",
      " 0   Airline          2671 non-null   object\n",
      " 1   Date_of_Journey  2671 non-null   object\n",
      " 2   Source           2671 non-null   object\n",
      " 3   Destination      2671 non-null   object\n",
      " 4   Route            2671 non-null   object\n",
      " 5   Dep_Time         2671 non-null   object\n",
      " 6   Arrival_Time     2671 non-null   object\n",
      " 7   Duration         2671 non-null   object\n",
      " 8   Total_Stops      2671 non-null   object\n",
      " 9   Additional_Info  2671 non-null   object\n",
      "dtypes: object(10)\n",
      "memory usage: 208.8+ KB\n"
     ]
    }
   ],
   "source": [
    "test_df.info()"
   ]
  },
  {
   "cell_type": "markdown",
   "metadata": {
    "colab_type": "text",
    "id": "hbxwhFkDg9al"
   },
   "source": [
    "# Feature Engineering"
   ]
  },
  {
   "cell_type": "code",
   "execution_count": 10,
   "metadata": {
    "colab": {
     "base_uri": "https://localhost:8080/",
     "height": 374
    },
    "colab_type": "code",
    "executionInfo": {
     "elapsed": 6873,
     "status": "ok",
     "timestamp": 1594621630083,
     "user": {
      "displayName": "Soumya Mukherjee",
      "photoUrl": "https://lh3.googleusercontent.com/a-/AOh14GjsNLxeyhJYUq7v4GVjhxLJwHnUNQHnU7IouRdjYw=s64",
      "userId": "12914492972692522370"
     },
     "user_tz": -330
    },
    "id": "ucD4y5bsITUq",
    "outputId": "03d25721-b633-4a8f-80d1-ddabf1ef151d"
   },
   "outputs": [
    {
     "data": {
      "image/png": "[encoded data removed]",
      "text/plain": [
       "<Figure size 576x432 with 1 Axes>"
      ]
     },
     "metadata": {
      "needs_background": "light",
      "tags": []
     },
     "output_type": "display_data"
    }
   ],
   "source": [
    "plt.figure(figsize=(8,6))\n",
    "train_df.groupby('Airline')['Price'].mean().sort_values(ascending=True).plot(kind='barh')\n",
    "plt.show()"
   ]
  },
  {
   "cell_type": "code",
   "execution_count": 11,
   "metadata": {
    "colab": {
     "base_uri": "https://localhost:8080/",
     "height": 680
    },
    "colab_type": "code",
    "executionInfo": {
     "elapsed": 8475,
     "status": "ok",
     "timestamp": 1594621631702,
     "user": {
      "displayName": "Soumya Mukherjee",
      "photoUrl": "https://lh3.googleusercontent.com/a-/AOh14GjsNLxeyhJYUq7v4GVjhxLJwHnUNQHnU7IouRdjYw=s64",
      "userId": "12914492972692522370"
     },
     "user_tz": -330
    },
    "id": "YZdW9qaVKARE",
    "outputId": "52824900-3c90-4d61-90b6-3f9feb643bbb"
   },
   "outputs": [
    {
     "data": {
      "image/png": "[encoded data removed]",
      "text/plain": [
       "<Figure size 720x576 with 1 Axes>"
      ]
     },
     "metadata": {
      "needs_background": "light",
      "tags": []
     },
     "output_type": "display_data"
    }
   ],
   "source": [
    "plt.figure(figsize=(10,8))\n",
    "sns.barplot(x='Airline', y='Price', data=train_df, hue='Total_Stops')\n",
    "plt.xticks(rotation=90)\n",
    "plt.title('Airline Price Based on No of Stops')\n",
    "plt.show()"
   ]
  },
  {
   "cell_type": "markdown",
   "metadata": {
    "colab_type": "text",
    "id": "YZZNJ6O-I2mO"
   },
   "source": [
    "**Insights:**\n",
    "\n",
    "**Jet Airways airlines** fare price are relatively quite high compared with other airlines and **Trujet** & **Spicejet** Airlines are having less price.  "
   ]
  },
  {
   "cell_type": "code",
   "execution_count": 12,
   "metadata": {
    "colab": {
     "base_uri": "https://localhost:8080/",
     "height": 52
    },
    "colab_type": "code",
    "executionInfo": {
     "elapsed": 8459,
     "status": "ok",
     "timestamp": 1594621631706,
     "user": {
      "displayName": "Soumya Mukherjee",
      "photoUrl": "https://lh3.googleusercontent.com/a-/AOh14GjsNLxeyhJYUq7v4GVjhxLJwHnUNQHnU7IouRdjYw=s64",
      "userId": "12914492972692522370"
     },
     "user_tz": -330
    },
    "id": "QvqLFa3bNihq",
    "outputId": "b6b4ac53-94a6-49b9-a3eb-171552c2d580"
   },
   "outputs": [
    {
     "data": {
      "text/plain": [
       "array(['New Delhi', 'Banglore', 'Cochin', 'Kolkata', 'Delhi', 'Hyderabad'],\n",
       "      dtype=object)"
      ]
     },
     "execution_count": 12,
     "metadata": {
      "tags": []
     },
     "output_type": "execute_result"
    }
   ],
   "source": [
    "train_df['Destination'].unique()"
   ]
  },
  {
   "cell_type": "markdown",
   "metadata": {
    "colab_type": "text",
    "id": "jCf9snQONovD"
   },
   "source": [
    "We can see that there are two different entry for Delhi. Let's update it to one."
   ]
  },
  {
   "cell_type": "code",
   "execution_count": 13,
   "metadata": {
    "colab": {},
    "colab_type": "code",
    "executionInfo": {
     "elapsed": 8458,
     "status": "ok",
     "timestamp": 1594621631709,
     "user": {
      "displayName": "Soumya Mukherjee",
      "photoUrl": "https://lh3.googleusercontent.com/a-/AOh14GjsNLxeyhJYUq7v4GVjhxLJwHnUNQHnU7IouRdjYw=s64",
      "userId": "12914492972692522370"
     },
     "user_tz": -330
    },
    "id": "XRFnjR15Nnnp"
   },
   "outputs": [],
   "source": [
    "train_df['Destination'] = train_df['Destination'].replace('New Delhi', 'Delhi')"
   ]
  },
  {
   "cell_type": "markdown",
   "metadata": {
    "colab_type": "text",
    "id": "3Xsdrs5LiSWx"
   },
   "source": [
    "**Date_of_Journey**"
   ]
  },
  {
   "cell_type": "code",
   "execution_count": 14,
   "metadata": {
    "colab": {},
    "colab_type": "code",
    "executionInfo": {
     "elapsed": 8455,
     "status": "ok",
     "timestamp": 1594621631711,
     "user": {
      "displayName": "Soumya Mukherjee",
      "photoUrl": "https://lh3.googleusercontent.com/a-/AOh14GjsNLxeyhJYUq7v4GVjhxLJwHnUNQHnU7IouRdjYw=s64",
      "userId": "12914492972692522370"
     },
     "user_tz": -330
    },
    "id": "zdnlrKPJdfHX"
   },
   "outputs": [],
   "source": [
    "def date_of_journey_extract(flight_df):\n",
    "  # Date_of_Journey column does have month and day information which will be kept in two separate columns.\n",
    "\n",
    "  flight_df['Journey_Month'] = pd.to_datetime(flight_df['Date_of_Journey'], dayfirst=True).dt.month\n",
    "  flight_df['Journey_Date'] = pd.to_datetime(flight_df['Date_of_Journey'], dayfirst=True).dt.day\n",
    "\n",
    "  # Now we can drop this column.\n",
    "  remove_col.append('Date_of_Journey')\n",
    "  return flight_df"
   ]
  },
  {
   "cell_type": "markdown",
   "metadata": {
    "colab_type": "text",
    "id": "n0yhqodkinpQ"
   },
   "source": [
    "**Dep_Time**\n"
   ]
  },
  {
   "cell_type": "code",
   "execution_count": 15,
   "metadata": {
    "colab": {},
    "colab_type": "code",
    "executionInfo": {
     "elapsed": 8453,
     "status": "ok",
     "timestamp": 1594621631713,
     "user": {
      "displayName": "Soumya Mukherjee",
      "photoUrl": "https://lh3.googleusercontent.com/a-/AOh14GjsNLxeyhJYUq7v4GVjhxLJwHnUNQHnU7IouRdjYw=s64",
      "userId": "12914492972692522370"
     },
     "user_tz": -330
    },
    "id": "oSFCPR5shVhW"
   },
   "outputs": [],
   "source": [
    "def dep_time_extract(flight_df):\n",
    "  # we will split this record in hour and minute column\n",
    "  flight_df['Dep_Hour'] = pd.to_datetime(flight_df['Dep_Time']).dt.hour\n",
    "  flight_df['Dep_Minute'] = pd.to_datetime(flight_df['Dep_Time']).dt.minute\n",
    "\n",
    "  # let's drop this column\n",
    "  remove_col.append('Dep_Time')\n",
    "  return flight_df"
   ]
  },
  {
   "cell_type": "markdown",
   "metadata": {
    "colab_type": "text",
    "id": "M9FiuQEnjdsJ"
   },
   "source": [
    "**Arrival_Time**"
   ]
  },
  {
   "cell_type": "code",
   "execution_count": 16,
   "metadata": {
    "colab": {},
    "colab_type": "code",
    "executionInfo": {
     "elapsed": 8451,
     "status": "ok",
     "timestamp": 1594621631714,
     "user": {
      "displayName": "Soumya Mukherjee",
      "photoUrl": "https://lh3.googleusercontent.com/a-/AOh14GjsNLxeyhJYUq7v4GVjhxLJwHnUNQHnU7IouRdjYw=s64",
      "userId": "12914492972692522370"
     },
     "user_tz": -330
    },
    "id": "guY6Ys6Ui7zU"
   },
   "outputs": [],
   "source": [
    "def arrival_time_extract(flight_df):\n",
    "  # we will extract hour and minute info from this column and will drop this at the end\n",
    "  flight_df['Arrival_Hour'] = pd.to_datetime(flight_df['Arrival_Time']).dt.hour\n",
    "  flight_df['Arrival_Minute'] = pd.to_datetime(flight_df['Arrival_Time']).dt.minute\n",
    "\n",
    "  remove_col.append('Arrival_Time')\n",
    "  return flight_df"
   ]
  },
  {
   "cell_type": "markdown",
   "metadata": {
    "colab_type": "text",
    "id": "Re71dKfNpg-p"
   },
   "source": [
    "**Duration**"
   ]
  },
  {
   "cell_type": "code",
   "execution_count": 17,
   "metadata": {
    "colab": {},
    "colab_type": "code",
    "executionInfo": {
     "elapsed": 8449,
     "status": "ok",
     "timestamp": 1594621631716,
     "user": {
      "displayName": "Soumya Mukherjee",
      "photoUrl": "https://lh3.googleusercontent.com/a-/AOh14GjsNLxeyhJYUq7v4GVjhxLJwHnUNQHnU7IouRdjYw=s64",
      "userId": "12914492972692522370"
     },
     "user_tz": -330
    },
    "id": "jA6S1cKYrPw5"
   },
   "outputs": [],
   "source": [
    "def duration_extract(flight_df):\n",
    "  #print(duration_list[0])\n",
    "  flight_df['Duration'] = flight_df['Duration'].apply(lambda x: '0h '+x if 'h' not in x and 'm' in x else x+' 0m' if 'm' not in x and 'h' in x else x)\n",
    "  flight_df['Duration_Hour'] = flight_df['Duration'].apply(lambda x: int(x.strip().split()[0].replace('h', '')))\n",
    "  flight_df['Duration_Minute'] = flight_df['Duration'].apply(lambda x: int(x.strip().split()[1].replace('m', '')))\n",
    "  remove_col.append('Duration')\n",
    "  return flight_df"
   ]
  },
  {
   "cell_type": "markdown",
   "metadata": {
    "colab_type": "text",
    "id": "s-bpInoQkJe-"
   },
   "source": [
    "**Total_Stops**"
   ]
  },
  {
   "cell_type": "code",
   "execution_count": 18,
   "metadata": {
    "colab": {},
    "colab_type": "code",
    "executionInfo": {
     "elapsed": 8446,
     "status": "ok",
     "timestamp": 1594621631717,
     "user": {
      "displayName": "Soumya Mukherjee",
      "photoUrl": "https://lh3.googleusercontent.com/a-/AOh14GjsNLxeyhJYUq7v4GVjhxLJwHnUNQHnU7IouRdjYw=s64",
      "userId": "12914492972692522370"
     },
     "user_tz": -330
    },
    "id": "rkhnM-_3jFBR"
   },
   "outputs": [],
   "source": [
    "def total_stop_manipulation(flight_df):\n",
    "  # we will replace 'non-stop' as '0 stops' and then remove ' stops' word\n",
    "  flight_df['Total_Stops'] = flight_df['Total_Stops'].replace('non-stop', '0 stops')\n",
    "  flight_df['Total_Stops'] = flight_df['Total_Stops'].apply(lambda x: x.split()[0])\n",
    "  flight_df['Total_Stops'] = pd.to_numeric(flight_df['Total_Stops'])\n",
    "  # convert this column into integer\n",
    "  # print(flight_df['Total_Stops'])\n",
    "  return flight_df"
   ]
  },
  {
   "cell_type": "code",
   "execution_count": 19,
   "metadata": {
    "colab": {},
    "colab_type": "code",
    "executionInfo": {
     "elapsed": 8447,
     "status": "ok",
     "timestamp": 1594621631719,
     "user": {
      "displayName": "Soumya Mukherjee",
      "photoUrl": "https://lh3.googleusercontent.com/a-/AOh14GjsNLxeyhJYUq7v4GVjhxLJwHnUNQHnU7IouRdjYw=s64",
      "userId": "12914492972692522370"
     },
     "user_tz": -330
    },
    "id": "HCUMvi51twa6"
   },
   "outputs": [],
   "source": [
    "def feature_remove(df, labels):\n",
    "  df.drop(labels=labels, axis=1, inplace=True)\n",
    "  return df"
   ]
  },
  {
   "cell_type": "code",
   "execution_count": 20,
   "metadata": {
    "colab": {},
    "colab_type": "code",
    "executionInfo": {
     "elapsed": 8445,
     "status": "ok",
     "timestamp": 1594621631722,
     "user": {
      "displayName": "Soumya Mukherjee",
      "photoUrl": "https://lh3.googleusercontent.com/a-/AOh14GjsNLxeyhJYUq7v4GVjhxLJwHnUNQHnU7IouRdjYw=s64",
      "userId": "12914492972692522370"
     },
     "user_tz": -330
    },
    "id": "w1IK6T_EkRYe"
   },
   "outputs": [],
   "source": [
    "def feature_engineering_pipeline(df):\n",
    "  df = date_of_journey_extract(df)\n",
    "  df = dep_time_extract(df)\n",
    "  df = arrival_time_extract(df)\n",
    "  df = duration_extract(df)\n",
    "  df = total_stop_manipulation(df)\n",
    "  return df"
   ]
  },
  {
   "cell_type": "code",
   "execution_count": 21,
   "metadata": {
    "colab": {},
    "colab_type": "code",
    "executionInfo": {
     "elapsed": 8444,
     "status": "ok",
     "timestamp": 1594621631725,
     "user": {
      "displayName": "Soumya Mukherjee",
      "photoUrl": "https://lh3.googleusercontent.com/a-/AOh14GjsNLxeyhJYUq7v4GVjhxLJwHnUNQHnU7IouRdjYw=s64",
      "userId": "12914492972692522370"
     },
     "user_tz": -330
    },
    "id": "rB56uZX-41oO"
   },
   "outputs": [],
   "source": [
    "train_df = feature_engineering_pipeline(train_df)\n",
    "test_df = feature_engineering_pipeline(test_df)"
   ]
  },
  {
   "cell_type": "code",
   "execution_count": 22,
   "metadata": {
    "colab": {
     "base_uri": "https://localhost:8080/",
     "height": 52
    },
    "colab_type": "code",
    "executionInfo": {
     "elapsed": 8793,
     "status": "ok",
     "timestamp": 1594621632094,
     "user": {
      "displayName": "Soumya Mukherjee",
      "photoUrl": "https://lh3.googleusercontent.com/a-/AOh14GjsNLxeyhJYUq7v4GVjhxLJwHnUNQHnU7IouRdjYw=s64",
      "userId": "12914492972692522370"
     },
     "user_tz": -330
    },
    "id": "IHmc9eM_yimJ",
    "outputId": "0d3375c4-421c-4d77-af78-09aa1dcd1d7b"
   },
   "outputs": [
    {
     "name": "stdout",
     "output_type": "stream",
     "text": [
      "(10682, 19)\n",
      "(2671, 18)\n"
     ]
    }
   ],
   "source": [
    "print(train_df.shape)\n",
    "print(test_df.shape)"
   ]
  },
  {
   "cell_type": "code",
   "execution_count": 23,
   "metadata": {
    "colab": {},
    "colab_type": "code",
    "executionInfo": {
     "elapsed": 8794,
     "status": "ok",
     "timestamp": 1594621632097,
     "user": {
      "displayName": "Soumya Mukherjee",
      "photoUrl": "https://lh3.googleusercontent.com/a-/AOh14GjsNLxeyhJYUq7v4GVjhxLJwHnUNQHnU7IouRdjYw=s64",
      "userId": "12914492972692522370"
     },
     "user_tz": -330
    },
    "id": "pgKzjhhaby5l"
   },
   "outputs": [],
   "source": [
    "# Copy of train_df and test_df\n",
    "train_df_copy = train_df.copy(deep=True)\n",
    "test_df_copy = test_df.copy(deep=True)"
   ]
  },
  {
   "cell_type": "code",
   "execution_count": 24,
   "metadata": {
    "colab": {
     "base_uri": "https://localhost:8080/",
     "height": 225
    },
    "colab_type": "code",
    "executionInfo": {
     "elapsed": 8778,
     "status": "ok",
     "timestamp": 1594621632098,
     "user": {
      "displayName": "Soumya Mukherjee",
      "photoUrl": "https://lh3.googleusercontent.com/a-/AOh14GjsNLxeyhJYUq7v4GVjhxLJwHnUNQHnU7IouRdjYw=s64",
      "userId": "12914492972692522370"
     },
     "user_tz": -330
    },
    "id": "gdqi8WcWoKCV",
    "outputId": "64a87612-b17f-41a1-cb1f-de74e9191a0e"
   },
   "outputs": [
    {
     "name": "stdout",
     "output_type": "stream",
     "text": [
      "Index(['Airline', 'Date_of_Journey', 'Source', 'Destination', 'Route',\n",
      "       'Dep_Time', 'Arrival_Time', 'Duration', 'Total_Stops',\n",
      "       'Additional_Info', 'Price', 'Journey_Month', 'Journey_Date', 'Dep_Hour',\n",
      "       'Dep_Minute', 'Arrival_Hour', 'Arrival_Minute', 'Duration_Hour',\n",
      "       'Duration_Minute'],\n",
      "      dtype='object')\n",
      "Index(['Airline', 'Date_of_Journey', 'Source', 'Destination', 'Route',\n",
      "       'Dep_Time', 'Arrival_Time', 'Duration', 'Total_Stops',\n",
      "       'Additional_Info', 'Journey_Month', 'Journey_Date', 'Dep_Hour',\n",
      "       'Dep_Minute', 'Arrival_Hour', 'Arrival_Minute', 'Duration_Hour',\n",
      "       'Duration_Minute'],\n",
      "      dtype='object')\n"
     ]
    }
   ],
   "source": [
    "print(train_df.columns)\n",
    "print(test_df.columns)"
   ]
  },
  {
   "cell_type": "markdown",
   "metadata": {
    "colab_type": "text",
    "id": "hp0rAVTlQFol"
   },
   "source": [
    "# Categorical Data Handling"
   ]
  },
  {
   "cell_type": "code",
   "execution_count": 25,
   "metadata": {
    "colab": {},
    "colab_type": "code",
    "executionInfo": {
     "elapsed": 8777,
     "status": "ok",
     "timestamp": 1594621632100,
     "user": {
      "displayName": "Soumya Mukherjee",
      "photoUrl": "https://lh3.googleusercontent.com/a-/AOh14GjsNLxeyhJYUq7v4GVjhxLJwHnUNQHnU7IouRdjYw=s64",
      "userId": "12914492972692522370"
     },
     "user_tz": -330
    },
    "id": "g6MH2BfNP8Hb"
   },
   "outputs": [],
   "source": [
    "def oneHotEncoding(df, column):\n",
    "  temp = pd.get_dummies(data= df[[column]], prefix=column, prefix_sep='_', drop_first=False)\n",
    "  df = pd.concat([df, temp], axis=1)\n",
    "  remove_col.append(column)\n",
    "  return df"
   ]
  },
  {
   "cell_type": "code",
   "execution_count": 26,
   "metadata": {
    "colab": {},
    "colab_type": "code",
    "executionInfo": {
     "elapsed": 8775,
     "status": "ok",
     "timestamp": 1594621632102,
     "user": {
      "displayName": "Soumya Mukherjee",
      "photoUrl": "https://lh3.googleusercontent.com/a-/AOh14GjsNLxeyhJYUq7v4GVjhxLJwHnUNQHnU7IouRdjYw=s64",
      "userId": "12914492972692522370"
     },
     "user_tz": -330
    },
    "id": "kEyrTdbOQpUl"
   },
   "outputs": [],
   "source": [
    "def categoricalDataHandling(data):\n",
    "  data = oneHotEncoding(data, 'Source')\n",
    "  data = oneHotEncoding(data, 'Destination')\n",
    "  data = oneHotEncoding(data, 'Airline')\n",
    "  data = feature_remove(data, list(set(remove_col)))\n",
    "  return data\n"
   ]
  },
  {
   "cell_type": "code",
   "execution_count": 27,
   "metadata": {
    "colab": {},
    "colab_type": "code",
    "executionInfo": {
     "elapsed": 8773,
     "status": "ok",
     "timestamp": 1594621632103,
     "user": {
      "displayName": "Soumya Mukherjee",
      "photoUrl": "https://lh3.googleusercontent.com/a-/AOh14GjsNLxeyhJYUq7v4GVjhxLJwHnUNQHnU7IouRdjYw=s64",
      "userId": "12914492972692522370"
     },
     "user_tz": -330
    },
    "id": "BS10Lg77QsnU"
   },
   "outputs": [],
   "source": [
    "train_df = categoricalDataHandling(train_df)\n",
    "test_df = categoricalDataHandling(test_df)"
   ]
  },
  {
   "cell_type": "code",
   "execution_count": 28,
   "metadata": {
    "colab": {
     "base_uri": "https://localhost:8080/",
     "height": 52
    },
    "colab_type": "code",
    "executionInfo": {
     "elapsed": 8757,
     "status": "ok",
     "timestamp": 1594621632104,
     "user": {
      "displayName": "Soumya Mukherjee",
      "photoUrl": "https://lh3.googleusercontent.com/a-/AOh14GjsNLxeyhJYUq7v4GVjhxLJwHnUNQHnU7IouRdjYw=s64",
      "userId": "12914492972692522370"
     },
     "user_tz": -330
    },
    "id": "GDZvc7kwXgrR",
    "outputId": "fe00bafc-0847-490e-d1fb-a503f1e35d19"
   },
   "outputs": [
    {
     "name": "stdout",
     "output_type": "stream",
     "text": [
      "(10682, 32)\n",
      "(2671, 31)\n"
     ]
    }
   ],
   "source": [
    "print(train_df.shape)\n",
    "print(test_df.shape)"
   ]
  },
  {
   "cell_type": "code",
   "execution_count": 29,
   "metadata": {
    "colab": {},
    "colab_type": "code",
    "executionInfo": {
     "elapsed": 8756,
     "status": "ok",
     "timestamp": 1594621632106,
     "user": {
      "displayName": "Soumya Mukherjee",
      "photoUrl": "https://lh3.googleusercontent.com/a-/AOh14GjsNLxeyhJYUq7v4GVjhxLJwHnUNQHnU7IouRdjYw=s64",
      "userId": "12914492972692522370"
     },
     "user_tz": -330
    },
    "id": "eK2-xy9UYxM3"
   },
   "outputs": [],
   "source": [
    "list1 = list(train_df.columns)\n",
    "list2 = list(test_df.columns)"
   ]
  },
  {
   "cell_type": "code",
   "execution_count": 30,
   "metadata": {
    "colab": {
     "base_uri": "https://localhost:8080/",
     "height": 34
    },
    "colab_type": "code",
    "executionInfo": {
     "elapsed": 8739,
     "status": "ok",
     "timestamp": 1594621632106,
     "user": {
      "displayName": "Soumya Mukherjee",
      "photoUrl": "https://lh3.googleusercontent.com/a-/AOh14GjsNLxeyhJYUq7v4GVjhxLJwHnUNQHnU7IouRdjYw=s64",
      "userId": "12914492972692522370"
     },
     "user_tz": -330
    },
    "id": "pi7rErshZRZt",
    "outputId": "c53631ee-0309-47b5-887b-66fcb8314892"
   },
   "outputs": [
    {
     "data": {
      "text/plain": [
       "{'Airline_Trujet', 'Price'}"
      ]
     },
     "execution_count": 30,
     "metadata": {
      "tags": []
     },
     "output_type": "execute_result"
    }
   ],
   "source": [
    "set(list1)-set(list2)"
   ]
  },
  {
   "cell_type": "markdown",
   "metadata": {
    "colab_type": "text",
    "id": "VES8_EIjaQ16"
   },
   "source": [
    "# Feature Selection"
   ]
  },
  {
   "cell_type": "markdown",
   "metadata": {
    "colab_type": "text",
    "id": "GIV8eeixawxF"
   },
   "source": [
    "Finding out the best features which will contribute and have good relation with our Target variable.\n",
    "\n",
    "Following are some feature selection methods: 1) heatmap 2) featureimportance 3) SelectKBest"
   ]
  },
  {
   "cell_type": "code",
   "execution_count": 31,
   "metadata": {
    "colab": {
     "base_uri": "https://localhost:8080/",
     "height": 560
    },
    "colab_type": "code",
    "executionInfo": {
     "elapsed": 10211,
     "status": "ok",
     "timestamp": 1594621633595,
     "user": {
      "displayName": "Soumya Mukherjee",
      "photoUrl": "https://lh3.googleusercontent.com/a-/AOh14GjsNLxeyhJYUq7v4GVjhxLJwHnUNQHnU7IouRdjYw=s64",
      "userId": "12914492972692522370"
     },
     "user_tz": -330
    },
    "id": "LQ7Ov1-wZhO8",
    "outputId": "90ff4446-92dc-4248-ecba-3c8120750ce4"
   },
   "outputs": [
    {
     "data": {
      "image/png": "[encoded data removed]",
      "text/plain": [
       "<Figure size 576x576 with 2 Axes>"
      ]
     },
     "metadata": {
      "needs_background": "light",
      "tags": []
     },
     "output_type": "display_data"
    }
   ],
   "source": [
    "corr = train_df_copy.corr()\n",
    "plt.figure(figsize=(8,8))\n",
    "sns.heatmap(corr, annot=True, cmap='RdYlGn')\n",
    "plt.show()"
   ]
  },
  {
   "cell_type": "code",
   "execution_count": 32,
   "metadata": {
    "colab": {},
    "colab_type": "code",
    "executionInfo": {
     "elapsed": 10210,
     "status": "ok",
     "timestamp": 1594621633598,
     "user": {
      "displayName": "Soumya Mukherjee",
      "photoUrl": "https://lh3.googleusercontent.com/a-/AOh14GjsNLxeyhJYUq7v4GVjhxLJwHnUNQHnU7IouRdjYw=s64",
      "userId": "12914492972692522370"
     },
     "user_tz": -330
    },
    "id": "ahn6uHpTbGr8"
   },
   "outputs": [],
   "source": [
    "selection = ExtraTreesRegressor()"
   ]
  },
  {
   "cell_type": "code",
   "execution_count": 33,
   "metadata": {
    "colab": {
     "base_uri": "https://localhost:8080/",
     "height": 198
    },
    "colab_type": "code",
    "executionInfo": {
     "elapsed": 10192,
     "status": "ok",
     "timestamp": 1594621633600,
     "user": {
      "displayName": "Soumya Mukherjee",
      "photoUrl": "https://lh3.googleusercontent.com/a-/AOh14GjsNLxeyhJYUq7v4GVjhxLJwHnUNQHnU7IouRdjYw=s64",
      "userId": "12914492972692522370"
     },
     "user_tz": -330
    },
    "id": "rCpoNrVgdg24",
    "outputId": "dc104a03-9cb9-407d-e780-3e55d52b33a5"
   },
   "outputs": [
    {
     "data": {
      "text/html": [
       "<div>\n",
       "<style scoped>\n",
       "    .dataframe tbody tr th:only-of-type {\n",
       "        vertical-align: middle;\n",
       "    }\n",
       "\n",
       "    .dataframe tbody tr th {\n",
       "        vertical-align: top;\n",
       "    }\n",
       "\n",
       "    .dataframe thead th {\n",
       "        text-align: right;\n",
       "    }\n",
       "</style>\n",
       "<table border=\"1\" class=\"dataframe\">\n",
       "  <thead>\n",
       "    <tr style=\"text-align: right;\">\n",
       "      <th></th>\n",
       "      <th>Total_Stops</th>\n",
       "      <th>Price</th>\n",
       "      <th>Journey_Month</th>\n",
       "      <th>Journey_Date</th>\n",
       "      <th>Dep_Hour</th>\n",
       "      <th>Dep_Minute</th>\n",
       "      <th>Arrival_Hour</th>\n",
       "      <th>Arrival_Minute</th>\n",
       "      <th>Duration_Hour</th>\n",
       "      <th>Duration_Minute</th>\n",
       "      <th>Source_Banglore</th>\n",
       "      <th>Source_Chennai</th>\n",
       "      <th>Source_Delhi</th>\n",
       "      <th>Source_Kolkata</th>\n",
       "      <th>Source_Mumbai</th>\n",
       "      <th>Destination_Banglore</th>\n",
       "      <th>Destination_Cochin</th>\n",
       "      <th>Destination_Delhi</th>\n",
       "      <th>Destination_Hyderabad</th>\n",
       "      <th>Destination_Kolkata</th>\n",
       "      <th>Airline_Air Asia</th>\n",
       "      <th>Airline_Air India</th>\n",
       "      <th>Airline_GoAir</th>\n",
       "      <th>Airline_IndiGo</th>\n",
       "      <th>Airline_Jet Airways</th>\n",
       "      <th>Airline_Jet Airways Business</th>\n",
       "      <th>Airline_Multiple carriers</th>\n",
       "      <th>Airline_Multiple carriers Premium economy</th>\n",
       "      <th>Airline_SpiceJet</th>\n",
       "      <th>Airline_Trujet</th>\n",
       "      <th>Airline_Vistara</th>\n",
       "      <th>Airline_Vistara Premium economy</th>\n",
       "    </tr>\n",
       "  </thead>\n",
       "  <tbody>\n",
       "    <tr>\n",
       "      <th>0</th>\n",
       "      <td>0</td>\n",
       "      <td>3897</td>\n",
       "      <td>3</td>\n",
       "      <td>24</td>\n",
       "      <td>22</td>\n",
       "      <td>20</td>\n",
       "      <td>1</td>\n",
       "      <td>10</td>\n",
       "      <td>2</td>\n",
       "      <td>50</td>\n",
       "      <td>1</td>\n",
       "      <td>0</td>\n",
       "      <td>0</td>\n",
       "      <td>0</td>\n",
       "      <td>0</td>\n",
       "      <td>0</td>\n",
       "      <td>0</td>\n",
       "      <td>1</td>\n",
       "      <td>0</td>\n",
       "      <td>0</td>\n",
       "      <td>0</td>\n",
       "      <td>0</td>\n",
       "      <td>0</td>\n",
       "      <td>1</td>\n",
       "      <td>0</td>\n",
       "      <td>0</td>\n",
       "      <td>0</td>\n",
       "      <td>0</td>\n",
       "      <td>0</td>\n",
       "      <td>0</td>\n",
       "      <td>0</td>\n",
       "      <td>0</td>\n",
       "    </tr>\n",
       "    <tr>\n",
       "      <th>1</th>\n",
       "      <td>2</td>\n",
       "      <td>7662</td>\n",
       "      <td>5</td>\n",
       "      <td>1</td>\n",
       "      <td>5</td>\n",
       "      <td>50</td>\n",
       "      <td>13</td>\n",
       "      <td>15</td>\n",
       "      <td>7</td>\n",
       "      <td>25</td>\n",
       "      <td>0</td>\n",
       "      <td>0</td>\n",
       "      <td>0</td>\n",
       "      <td>1</td>\n",
       "      <td>0</td>\n",
       "      <td>1</td>\n",
       "      <td>0</td>\n",
       "      <td>0</td>\n",
       "      <td>0</td>\n",
       "      <td>0</td>\n",
       "      <td>0</td>\n",
       "      <td>1</td>\n",
       "      <td>0</td>\n",
       "      <td>0</td>\n",
       "      <td>0</td>\n",
       "      <td>0</td>\n",
       "      <td>0</td>\n",
       "      <td>0</td>\n",
       "      <td>0</td>\n",
       "      <td>0</td>\n",
       "      <td>0</td>\n",
       "      <td>0</td>\n",
       "    </tr>\n",
       "    <tr>\n",
       "      <th>2</th>\n",
       "      <td>2</td>\n",
       "      <td>13882</td>\n",
       "      <td>6</td>\n",
       "      <td>9</td>\n",
       "      <td>9</td>\n",
       "      <td>25</td>\n",
       "      <td>4</td>\n",
       "      <td>25</td>\n",
       "      <td>19</td>\n",
       "      <td>0</td>\n",
       "      <td>0</td>\n",
       "      <td>0</td>\n",
       "      <td>1</td>\n",
       "      <td>0</td>\n",
       "      <td>0</td>\n",
       "      <td>0</td>\n",
       "      <td>1</td>\n",
       "      <td>0</td>\n",
       "      <td>0</td>\n",
       "      <td>0</td>\n",
       "      <td>0</td>\n",
       "      <td>0</td>\n",
       "      <td>0</td>\n",
       "      <td>0</td>\n",
       "      <td>1</td>\n",
       "      <td>0</td>\n",
       "      <td>0</td>\n",
       "      <td>0</td>\n",
       "      <td>0</td>\n",
       "      <td>0</td>\n",
       "      <td>0</td>\n",
       "      <td>0</td>\n",
       "    </tr>\n",
       "  </tbody>\n",
       "</table>\n",
       "</div>"
      ],
      "text/plain": [
       "   Total_Stops  Price  ...  Airline_Vistara  Airline_Vistara Premium economy\n",
       "0            0   3897  ...                0                                0\n",
       "1            2   7662  ...                0                                0\n",
       "2            2  13882  ...                0                                0\n",
       "\n",
       "[3 rows x 32 columns]"
      ]
     },
     "execution_count": 33,
     "metadata": {
      "tags": []
     },
     "output_type": "execute_result"
    }
   ],
   "source": [
    "train_df.head(3)"
   ]
  },
  {
   "cell_type": "code",
   "execution_count": 34,
   "metadata": {
    "colab": {
     "base_uri": "https://localhost:8080/",
     "height": 139
    },
    "colab_type": "code",
    "executionInfo": {
     "elapsed": 12992,
     "status": "ok",
     "timestamp": 1594621636421,
     "user": {
      "displayName": "Soumya Mukherjee",
      "photoUrl": "https://lh3.googleusercontent.com/a-/AOh14GjsNLxeyhJYUq7v4GVjhxLJwHnUNQHnU7IouRdjYw=s64",
      "userId": "12914492972692522370"
     },
     "user_tz": -330
    },
    "id": "EGwkDvJodDcy",
    "outputId": "5dcb92b2-487e-49c3-d61d-6727b08917eb"
   },
   "outputs": [
    {
     "data": {
      "text/plain": [
       "ExtraTreesRegressor(bootstrap=False, ccp_alpha=0.0, criterion='mse',\n",
       "                    max_depth=None, max_features='auto', max_leaf_nodes=None,\n",
       "                    max_samples=None, min_impurity_decrease=0.0,\n",
       "                    min_impurity_split=None, min_samples_leaf=1,\n",
       "                    min_samples_split=2, min_weight_fraction_leaf=0.0,\n",
       "                    n_estimators=100, n_jobs=None, oob_score=False,\n",
       "                    random_state=None, verbose=0, warm_start=False)"
      ]
     },
     "execution_count": 34,
     "metadata": {
      "tags": []
     },
     "output_type": "execute_result"
    }
   ],
   "source": [
    "x = train_df.drop('Price', axis=1)\n",
    "y = train_df['Price']\n",
    "selection.fit(x,y)"
   ]
  },
  {
   "cell_type": "code",
   "execution_count": 35,
   "metadata": {
    "colab": {
     "base_uri": "https://localhost:8080/",
     "height": 483
    },
    "colab_type": "code",
    "executionInfo": {
     "elapsed": 12978,
     "status": "ok",
     "timestamp": 1594621636422,
     "user": {
      "displayName": "Soumya Mukherjee",
      "photoUrl": "https://lh3.googleusercontent.com/a-/AOh14GjsNLxeyhJYUq7v4GVjhxLJwHnUNQHnU7IouRdjYw=s64",
      "userId": "12914492972692522370"
     },
     "user_tz": -330
    },
    "id": "XEaZRuPBdI7t",
    "outputId": "4a2a76a6-cef0-4c62-b9c6-0b12bfd050e1"
   },
   "outputs": [
    {
     "data": {
      "image/png": "[encoded data removed]",
      "text/plain": [
       "<Figure size 720x576 with 1 Axes>"
      ]
     },
     "metadata": {
      "needs_background": "light",
      "tags": []
     },
     "output_type": "display_data"
    }
   ],
   "source": [
    "importance = pd.Series(selection.feature_importances_)\n",
    "importance.index = x.columns\n",
    "#features = list(train_df.columns)\n",
    "plt.figure(figsize=(10,8))\n",
    "importance.sort_values(ascending=True).plot(kind='barh')\n",
    "plt.show()\n",
    "#feature_importance = pd.DataFrame()"
   ]
  },
  {
   "cell_type": "markdown",
   "metadata": {
    "colab_type": "text",
    "id": "2XNkiruzqPFx"
   },
   "source": [
    "# Split data on train and test"
   ]
  },
  {
   "cell_type": "code",
   "execution_count": 36,
   "metadata": {
    "colab": {},
    "colab_type": "code",
    "executionInfo": {
     "elapsed": 12977,
     "status": "ok",
     "timestamp": 1594621636425,
     "user": {
      "displayName": "Soumya Mukherjee",
      "photoUrl": "https://lh3.googleusercontent.com/a-/AOh14GjsNLxeyhJYUq7v4GVjhxLJwHnUNQHnU7IouRdjYw=s64",
      "userId": "12914492972692522370"
     },
     "user_tz": -330
    },
    "id": "WaNhn-wPqQDh"
   },
   "outputs": [],
   "source": [
    "train_x, test_x, train_y, test_y = train_test_split(x, y, random_state= 0, test_size=0.2)"
   ]
  },
  {
   "cell_type": "markdown",
   "metadata": {
    "colab_type": "text",
    "id": "RarNcUW5p4s1"
   },
   "source": [
    "# **Create Model**"
   ]
  },
  {
   "cell_type": "code",
   "execution_count": 37,
   "metadata": {
    "colab": {},
    "colab_type": "code",
    "executionInfo": {
     "elapsed": 12975,
     "status": "ok",
     "timestamp": 1594621636426,
     "user": {
      "displayName": "Soumya Mukherjee",
      "photoUrl": "https://lh3.googleusercontent.com/a-/AOh14GjsNLxeyhJYUq7v4GVjhxLJwHnUNQHnU7IouRdjYw=s64",
      "userId": "12914492972692522370"
     },
     "user_tz": -330
    },
    "id": "bb3Xgq3ZCBkw"
   },
   "outputs": [],
   "source": [
    "def metrics_calculation(model, train_x, test_x, train_y, test_y):\n",
    "  yhat = model.predict(test_x)\n",
    "  print('Train Score : ',model.score(train_x, train_y))\n",
    "  print('Test Score :',model.score(test_x, test_y))\n",
    "  mae = mean_absolute_error(test_y, yhat)\n",
    "  mse = mean_squared_error(test_y, yhat)\n",
    "  rmse = np.sqrt(mse)\n",
    "  r_squared = r2_score(test_y, yhat)\n",
    "  adjusted_r2 = 1 - (1-r_squared)*(len(test_y)-1)/(len(test_y)-test_x.shape[1]-1)\n",
    "  print('MAE : ', mae)\n",
    "  print('MSE : ', mse)\n",
    "  print('RMSE : ', rmse)\n",
    "  print('R-Squared : ', r_squared)\n",
    "  print('Adjusted R^2 : ',adjusted_r2)\n",
    "  return mae, mse, rmse, r_squared, adjusted_r2\n"
   ]
  },
  {
   "cell_type": "code",
   "execution_count": 38,
   "metadata": {
    "colab": {
     "base_uri": "https://localhost:8080/",
     "height": 139
    },
    "colab_type": "code",
    "executionInfo": {
     "elapsed": 16275,
     "status": "ok",
     "timestamp": 1594621639744,
     "user": {
      "displayName": "Soumya Mukherjee",
      "photoUrl": "https://lh3.googleusercontent.com/a-/AOh14GjsNLxeyhJYUq7v4GVjhxLJwHnUNQHnU7IouRdjYw=s64",
      "userId": "12914492972692522370"
     },
     "user_tz": -330
    },
    "id": "r-M9NOxHomCg",
    "outputId": "00ba3724-98f5-4ab9-d99e-a3ab5b008600"
   },
   "outputs": [
    {
     "data": {
      "text/plain": [
       "RandomForestRegressor(bootstrap=True, ccp_alpha=0.0, criterion='mse',\n",
       "                      max_depth=None, max_features='auto', max_leaf_nodes=None,\n",
       "                      max_samples=None, min_impurity_decrease=0.0,\n",
       "                      min_impurity_split=None, min_samples_leaf=1,\n",
       "                      min_samples_split=2, min_weight_fraction_leaf=0.0,\n",
       "                      n_estimators=100, n_jobs=None, oob_score=False,\n",
       "                      random_state=None, verbose=0, warm_start=False)"
      ]
     },
     "execution_count": 38,
     "metadata": {
      "tags": []
     },
     "output_type": "execute_result"
    }
   ],
   "source": [
    "# RandomForest Model\n",
    "RF = RandomForestRegressor()\n",
    "RF.fit(train_x,train_y)"
   ]
  },
  {
   "cell_type": "code",
   "execution_count": 39,
   "metadata": {
    "colab": {
     "base_uri": "https://localhost:8080/",
     "height": 139
    },
    "colab_type": "code",
    "executionInfo": {
     "elapsed": 16266,
     "status": "ok",
     "timestamp": 1594621639751,
     "user": {
      "displayName": "Soumya Mukherjee",
      "photoUrl": "https://lh3.googleusercontent.com/a-/AOh14GjsNLxeyhJYUq7v4GVjhxLJwHnUNQHnU7IouRdjYw=s64",
      "userId": "12914492972692522370"
     },
     "user_tz": -330
    },
    "id": "9jnQqtO8qHx6",
    "outputId": "3d6448af-1234-469c-c4c6-3890a0ae2f40"
   },
   "outputs": [
    {
     "name": "stdout",
     "output_type": "stream",
     "text": [
      "Train Score :  0.9545087774715397\n",
      "Test Score : 0.8125469165671704\n",
      "MAE :  1244.358249971406\n",
      "MSE :  4398244.494959549\n",
      "RMSE :  2097.1992024983106\n",
      "R-Squared :  0.8125469165671704\n",
      "Adjusted R^2 :  0.809786324839656\n"
     ]
    }
   ],
   "source": [
    "rf_mae, rf_mse, rf_rmse, rf_r_squared, rf_adjusted_r2 = metrics_calculation(RF, train_x, test_x, train_y, test_y)\n",
    "#predict = model.predict(test_x)"
   ]
  },
  {
   "cell_type": "markdown",
   "metadata": {
    "colab_type": "text",
    "id": "OSxtI2Zw2Iwo"
   },
   "source": [
    "**Comment:**\n",
    "\n",
    "By analyzing R-Squared and Adjusted R^2 value, we can tell that model is not overfitted."
   ]
  },
  {
   "cell_type": "code",
   "execution_count": 40,
   "metadata": {
    "colab": {
     "base_uri": "https://localhost:8080/",
     "height": 279
    },
    "colab_type": "code",
    "executionInfo": {
     "elapsed": 16649,
     "status": "ok",
     "timestamp": 1594621640150,
     "user": {
      "displayName": "Soumya Mukherjee",
      "photoUrl": "https://lh3.googleusercontent.com/a-/AOh14GjsNLxeyhJYUq7v4GVjhxLJwHnUNQHnU7IouRdjYw=s64",
      "userId": "12914492972692522370"
     },
     "user_tz": -330
    },
    "id": "F8DhIDuIrHhw",
    "outputId": "92f7b741-b57b-46b5-cfaf-6d0213bed089"
   },
   "outputs": [
    {
     "data": {
      "image/png": "[encoded data removed]",
      "text/plain": [
       "<Figure size 432x288 with 1 Axes>"
      ]
     },
     "metadata": {
      "needs_background": "light",
      "tags": []
     },
     "output_type": "display_data"
    }
   ],
   "source": [
    "predict = RF.predict(test_x)\n",
    "sns.distplot(test_y - predict)\n",
    "plt.show()"
   ]
  },
  {
   "cell_type": "markdown",
   "metadata": {
    "colab_type": "text",
    "id": "DD6xr3dqr28w"
   },
   "source": [
    "It shows a Standard Normal distribution (Gaussian Distribution) which means the prediction is good here."
   ]
  },
  {
   "cell_type": "code",
   "execution_count": 41,
   "metadata": {
    "colab": {
     "base_uri": "https://localhost:8080/",
     "height": 279
    },
    "colab_type": "code",
    "executionInfo": {
     "elapsed": 17049,
     "status": "ok",
     "timestamp": 1594621640566,
     "user": {
      "displayName": "Soumya Mukherjee",
      "photoUrl": "https://lh3.googleusercontent.com/a-/AOh14GjsNLxeyhJYUq7v4GVjhxLJwHnUNQHnU7IouRdjYw=s64",
      "userId": "12914492972692522370"
     },
     "user_tz": -330
    },
    "id": "I9fzKvlTrwqu",
    "outputId": "36b76d4a-b550-44de-b0dd-8fce4b003540"
   },
   "outputs": [
    {
     "data": {
      "image/png": "[encoded data removed]",
      "text/plain": [
       "<Figure size 432x288 with 1 Axes>"
      ]
     },
     "metadata": {
      "needs_background": "light",
      "tags": []
     },
     "output_type": "display_data"
    }
   ],
   "source": [
    "plt.scatter(test_y, predict)\n",
    "plt.xlabel('y-test')\n",
    "plt.ylabel('y-prediction')\n",
    "plt.show()"
   ]
  },
  {
   "cell_type": "markdown",
   "metadata": {
    "colab_type": "text",
    "id": "eO8lQjGHtT1l"
   },
   "source": [
    "The linear distribution in our scatter plot shows that our prediction is also going good."
   ]
  },
  {
   "cell_type": "code",
   "execution_count": 42,
   "metadata": {
    "colab": {
     "base_uri": "https://localhost:8080/",
     "height": 156
    },
    "colab_type": "code",
    "executionInfo": {
     "elapsed": 17902,
     "status": "ok",
     "timestamp": 1594621641435,
     "user": {
      "displayName": "Soumya Mukherjee",
      "photoUrl": "https://lh3.googleusercontent.com/a-/AOh14GjsNLxeyhJYUq7v4GVjhxLJwHnUNQHnU7IouRdjYw=s64",
      "userId": "12914492972692522370"
     },
     "user_tz": -330
    },
    "id": "c3trQaUEFjIo",
    "outputId": "2d45ce3e-f0d4-4f92-cd47-65e38f2c8dad"
   },
   "outputs": [
    {
     "name": "stdout",
     "output_type": "stream",
     "text": [
      "[06:27:19] WARNING: /workspace/src/objective/regression_obj.cu:152: reg:linear is now deprecated in favor of reg:squarederror.\n"
     ]
    },
    {
     "data": {
      "text/plain": [
       "XGBRegressor(base_score=0.5, booster='gbtree', colsample_bylevel=1,\n",
       "             colsample_bynode=1, colsample_bytree=1, gamma=0,\n",
       "             importance_type='gain', learning_rate=0.1, max_delta_step=0,\n",
       "             max_depth=3, min_child_weight=1, missing=None, n_estimators=100,\n",
       "             n_jobs=1, nthread=None, objective='reg:linear', random_state=0,\n",
       "             reg_alpha=0, reg_lambda=1, scale_pos_weight=1, seed=None,\n",
       "             silent=None, subsample=1, verbosity=1)"
      ]
     },
     "execution_count": 42,
     "metadata": {
      "tags": []
     },
     "output_type": "execute_result"
    }
   ],
   "source": [
    "# XGBoost Regressor\n",
    "xgb = XGBRegressor()\n",
    "xgb.fit(train_x, train_y)\n"
   ]
  },
  {
   "cell_type": "code",
   "execution_count": 43,
   "metadata": {
    "colab": {
     "base_uri": "https://localhost:8080/",
     "height": 139
    },
    "colab_type": "code",
    "executionInfo": {
     "elapsed": 17892,
     "status": "ok",
     "timestamp": 1594621641440,
     "user": {
      "displayName": "Soumya Mukherjee",
      "photoUrl": "https://lh3.googleusercontent.com/a-/AOh14GjsNLxeyhJYUq7v4GVjhxLJwHnUNQHnU7IouRdjYw=s64",
      "userId": "12914492972692522370"
     },
     "user_tz": -330
    },
    "id": "woGKbJdOFjQw",
    "outputId": "3414dac2-19bf-47c1-a449-5746faa8f9b7"
   },
   "outputs": [
    {
     "name": "stdout",
     "output_type": "stream",
     "text": [
      "Train Score :  0.7791359728027453\n",
      "Test Score : 0.7421257744954605\n",
      "MAE :  1611.5858563863624\n",
      "MSE :  6050548.072866006\n",
      "RMSE :  2459.786184379855\n",
      "R-Squared :  0.7421257744954606\n",
      "Adjusted R^2 :  0.7383281018158212\n"
     ]
    }
   ],
   "source": [
    "xgb_mae, xgb_mse, xgb_rmse, xgb_r_squared, xgb_adjusted_r2 = metrics_calculation(xgb, train_x, test_x, train_y, test_y)"
   ]
  },
  {
   "cell_type": "code",
   "execution_count": 44,
   "metadata": {
    "colab": {
     "base_uri": "https://localhost:8080/",
     "height": 34
    },
    "colab_type": "code",
    "executionInfo": {
     "elapsed": 17880,
     "status": "ok",
     "timestamp": 1594621641443,
     "user": {
      "displayName": "Soumya Mukherjee",
      "photoUrl": "https://lh3.googleusercontent.com/a-/AOh14GjsNLxeyhJYUq7v4GVjhxLJwHnUNQHnU7IouRdjYw=s64",
      "userId": "12914492972692522370"
     },
     "user_tz": -330
    },
    "id": "TjHUaBOAFjZP",
    "outputId": "a5d5be25-2459-48d1-ad85-aabe66dcf49c"
   },
   "outputs": [
    {
     "data": {
      "text/plain": [
       "LinearRegression(copy_X=True, fit_intercept=True, n_jobs=None, normalize=False)"
      ]
     },
     "execution_count": 44,
     "metadata": {
      "tags": []
     },
     "output_type": "execute_result"
    }
   ],
   "source": [
    "# LinearRegression\n",
    "linear = LinearRegression()\n",
    "linear.fit(train_x, train_y)"
   ]
  },
  {
   "cell_type": "code",
   "execution_count": 45,
   "metadata": {
    "colab": {
     "base_uri": "https://localhost:8080/",
     "height": 139
    },
    "colab_type": "code",
    "executionInfo": {
     "elapsed": 17868,
     "status": "ok",
     "timestamp": 1594621641446,
     "user": {
      "displayName": "Soumya Mukherjee",
      "photoUrl": "https://lh3.googleusercontent.com/a-/AOh14GjsNLxeyhJYUq7v4GVjhxLJwHnUNQHnU7IouRdjYw=s64",
      "userId": "12914492972692522370"
     },
     "user_tz": -330
    },
    "id": "vOEJ6BEeFjWu",
    "outputId": "d710fe45-135f-4315-a883-b859e401237e"
   },
   "outputs": [
    {
     "name": "stdout",
     "output_type": "stream",
     "text": [
      "Train Score :  0.6198543220166426\n",
      "Test Score : 0.5759408293689392\n",
      "MAE :  2056.657379954785\n",
      "MSE :  9949774.517491495\n",
      "RMSE :  3154.3263175346165\n",
      "R-Squared :  0.5759408293689392\n",
      "Adjusted R^2 :  0.569695777449907\n"
     ]
    }
   ],
   "source": [
    "linear_mae, linear_mse, linear_rmse, linear_r_squared, linear_adjusted_r2 = metrics_calculation(linear, train_x, test_x, train_y, test_y)"
   ]
  },
  {
   "cell_type": "code",
   "execution_count": 46,
   "metadata": {
    "colab": {
     "base_uri": "https://localhost:8080/",
     "height": 52
    },
    "colab_type": "code",
    "executionInfo": {
     "elapsed": 27605,
     "status": "ok",
     "timestamp": 1594621651198,
     "user": {
      "displayName": "Soumya Mukherjee",
      "photoUrl": "https://lh3.googleusercontent.com/a-/AOh14GjsNLxeyhJYUq7v4GVjhxLJwHnUNQHnU7IouRdjYw=s64",
      "userId": "12914492972692522370"
     },
     "user_tz": -330
    },
    "id": "8C581ILmFjFx",
    "outputId": "65f6285d-af83-4d99-9969-42874d1f4006"
   },
   "outputs": [
    {
     "data": {
      "text/plain": [
       "SVR(C=1.0, cache_size=200, coef0=0.0, degree=3, epsilon=0.1, gamma='scale',\n",
       "    kernel='rbf', max_iter=-1, shrinking=True, tol=0.001, verbose=False)"
      ]
     },
     "execution_count": 46,
     "metadata": {
      "tags": []
     },
     "output_type": "execute_result"
    }
   ],
   "source": [
    "# Support Vector Regressor\n",
    "svr = SVR()\n",
    "svr.fit(train_x, train_y)"
   ]
  },
  {
   "cell_type": "code",
   "execution_count": 47,
   "metadata": {
    "colab": {
     "base_uri": "https://localhost:8080/",
     "height": 139
    },
    "colab_type": "code",
    "executionInfo": {
     "elapsed": 34055,
     "status": "ok",
     "timestamp": 1594621657665,
     "user": {
      "displayName": "Soumya Mukherjee",
      "photoUrl": "https://lh3.googleusercontent.com/a-/AOh14GjsNLxeyhJYUq7v4GVjhxLJwHnUNQHnU7IouRdjYw=s64",
      "userId": "12914492972692522370"
     },
     "user_tz": -330
    },
    "id": "jbkzd8nwKD0C",
    "outputId": "d3e3cab4-0452-441f-b447-713cb03cf1e7"
   },
   "outputs": [
    {
     "name": "stdout",
     "output_type": "stream",
     "text": [
      "Train Score :  0.00408843758632782\n",
      "Test Score : -0.005161726235910047\n",
      "MAE :  3667.606013685696\n",
      "MSE :  23584285.45426032\n",
      "RMSE :  4856.365457238604\n",
      "R-Squared :  -0.005161726235910047\n",
      "Adjusted R^2 :  -0.019964583011830683\n"
     ]
    }
   ],
   "source": [
    "svr_mae, svr_mse, svr_rmse, svr_r_squared, svr_adjusted_r2 = metrics_calculation(svr, train_x, test_x, train_y, test_y)"
   ]
  },
  {
   "cell_type": "code",
   "execution_count": 48,
   "metadata": {
    "colab": {
     "base_uri": "https://localhost:8080/",
     "height": 139
    },
    "colab_type": "code",
    "executionInfo": {
     "elapsed": 34042,
     "status": "ok",
     "timestamp": 1594621657668,
     "user": {
      "displayName": "Soumya Mukherjee",
      "photoUrl": "https://lh3.googleusercontent.com/a-/AOh14GjsNLxeyhJYUq7v4GVjhxLJwHnUNQHnU7IouRdjYw=s64",
      "userId": "12914492972692522370"
     },
     "user_tz": -330
    },
    "id": "QDdnF7cQbrQ6",
    "outputId": "84e050ec-2b8c-4167-dc8c-b129860a1960"
   },
   "outputs": [
    {
     "data": {
      "text/plain": [
       "HistGradientBoostingRegressor(l2_regularization=0.0, learning_rate=0.1,\n",
       "                              loss='least_squares', max_bins=255,\n",
       "                              max_depth=None, max_iter=100, max_leaf_nodes=31,\n",
       "                              min_samples_leaf=20, n_iter_no_change=None,\n",
       "                              random_state=None, scoring=None, tol=1e-07,\n",
       "                              validation_fraction=0.1, verbose=0,\n",
       "                              warm_start=False)"
      ]
     },
     "execution_count": 48,
     "metadata": {
      "tags": []
     },
     "output_type": "execute_result"
    }
   ],
   "source": [
    "# HistGradientBoostingRegressor\n",
    "histgbregressor = HistGradientBoostingRegressor()\n",
    "histgbregressor.fit(train_x, train_y)"
   ]
  },
  {
   "cell_type": "code",
   "execution_count": 49,
   "metadata": {
    "colab": {
     "base_uri": "https://localhost:8080/",
     "height": 139
    },
    "colab_type": "code",
    "executionInfo": {
     "elapsed": 34981,
     "status": "ok",
     "timestamp": 1594621658624,
     "user": {
      "displayName": "Soumya Mukherjee",
      "photoUrl": "https://lh3.googleusercontent.com/a-/AOh14GjsNLxeyhJYUq7v4GVjhxLJwHnUNQHnU7IouRdjYw=s64",
      "userId": "12914492972692522370"
     },
     "user_tz": -330
    },
    "id": "mk9RaN0LbrOL",
    "outputId": "9ed6a3d1-ee10-4f8e-9706-fafc47351aa0"
   },
   "outputs": [
    {
     "name": "stdout",
     "output_type": "stream",
     "text": [
      "Train Score :  0.8725039067901491\n",
      "Test Score : 0.7784603649784543\n",
      "MAE :  1336.486795014386\n",
      "MSE :  5198023.21895662\n",
      "RMSE :  2279.917371080939\n",
      "R-Squared :  0.7784603649784544\n",
      "Adjusted R^2 :  0.7751977860303936\n"
     ]
    }
   ],
   "source": [
    "histgbregressor_mae, histgbregressor_mse, histgbregressor_rmse, histgbregressor_r_squared, histgbregressor_adjusted_r2 = metrics_calculation(histgbregressor, train_x, test_x, train_y, test_y)"
   ]
  },
  {
   "cell_type": "code",
   "execution_count": 50,
   "metadata": {
    "colab": {
     "base_uri": "https://localhost:8080/",
     "height": 206
    },
    "colab_type": "code",
    "executionInfo": {
     "elapsed": 34966,
     "status": "ok",
     "timestamp": 1594621658627,
     "user": {
      "displayName": "Soumya Mukherjee",
      "photoUrl": "https://lh3.googleusercontent.com/a-/AOh14GjsNLxeyhJYUq7v4GVjhxLJwHnUNQHnU7IouRdjYw=s64",
      "userId": "12914492972692522370"
     },
     "user_tz": -330
    },
    "id": "PTGDnG6uKD9x",
    "outputId": "157f44aa-4917-462d-eb37-37bfc7a1f781"
   },
   "outputs": [
    {
     "data": {
      "text/html": [
       "<div>\n",
       "<style scoped>\n",
       "    .dataframe tbody tr th:only-of-type {\n",
       "        vertical-align: middle;\n",
       "    }\n",
       "\n",
       "    .dataframe tbody tr th {\n",
       "        vertical-align: top;\n",
       "    }\n",
       "\n",
       "    .dataframe thead th {\n",
       "        text-align: right;\n",
       "    }\n",
       "</style>\n",
       "<table border=\"1\" class=\"dataframe\">\n",
       "  <thead>\n",
       "    <tr style=\"text-align: right;\">\n",
       "      <th></th>\n",
       "      <th>model</th>\n",
       "      <th>RMSE</th>\n",
       "      <th>R-Squared</th>\n",
       "    </tr>\n",
       "  </thead>\n",
       "  <tbody>\n",
       "    <tr>\n",
       "      <th>0</th>\n",
       "      <td>Random Forest</td>\n",
       "      <td>2097.199202</td>\n",
       "      <td>0.812547</td>\n",
       "    </tr>\n",
       "    <tr>\n",
       "      <th>1</th>\n",
       "      <td>XGBoost Regressor</td>\n",
       "      <td>2459.786184</td>\n",
       "      <td>0.742126</td>\n",
       "    </tr>\n",
       "    <tr>\n",
       "      <th>2</th>\n",
       "      <td>Linear Regression</td>\n",
       "      <td>3154.326318</td>\n",
       "      <td>0.575941</td>\n",
       "    </tr>\n",
       "    <tr>\n",
       "      <th>3</th>\n",
       "      <td>SVM Regressor</td>\n",
       "      <td>4856.365457</td>\n",
       "      <td>-0.005162</td>\n",
       "    </tr>\n",
       "    <tr>\n",
       "      <th>4</th>\n",
       "      <td>Hist GB Regressor</td>\n",
       "      <td>2279.917371</td>\n",
       "      <td>0.778460</td>\n",
       "    </tr>\n",
       "  </tbody>\n",
       "</table>\n",
       "</div>"
      ],
      "text/plain": [
       "               model         RMSE  R-Squared\n",
       "0      Random Forest  2097.199202   0.812547\n",
       "1  XGBoost Regressor  2459.786184   0.742126\n",
       "2  Linear Regression  3154.326318   0.575941\n",
       "3      SVM Regressor  4856.365457  -0.005162\n",
       "4  Hist GB Regressor  2279.917371   0.778460"
      ]
     },
     "execution_count": 50,
     "metadata": {
      "tags": []
     },
     "output_type": "execute_result"
    }
   ],
   "source": [
    "model_param = {'model': ['Random Forest','XGBoost Regressor','Linear Regression','SVM Regressor', 'Hist GB Regressor'],\n",
    "               'RMSE': [rf_rmse, xgb_rmse, linear_rmse, svr_rmse, histgbregressor_rmse],\n",
    "               'R-Squared': [rf_r_squared, xgb_r_squared, linear_r_squared, svr_r_squared, histgbregressor_r_squared]}\n",
    "\n",
    "model_comparison = pd.DataFrame(model_param)\n",
    "model_comparison"
   ]
  },
  {
   "cell_type": "code",
   "execution_count": 51,
   "metadata": {
    "colab": {
     "base_uri": "https://localhost:8080/",
     "height": 404
    },
    "colab_type": "code",
    "executionInfo": {
     "elapsed": 34951,
     "status": "ok",
     "timestamp": 1594621658629,
     "user": {
      "displayName": "Soumya Mukherjee",
      "photoUrl": "https://lh3.googleusercontent.com/a-/AOh14GjsNLxeyhJYUq7v4GVjhxLJwHnUNQHnU7IouRdjYw=s64",
      "userId": "12914492972692522370"
     },
     "user_tz": -330
    },
    "id": "5-DWISB0OZmg",
    "outputId": "3fa945b6-dffa-4409-e83f-f5461dd484a5"
   },
   "outputs": [
    {
     "data": {
      "image/png": "[encoded data removed]",
      "text/plain": [
       "<Figure size 720x432 with 1 Axes>"
      ]
     },
     "metadata": {
      "needs_background": "light",
      "tags": []
     },
     "output_type": "display_data"
    }
   ],
   "source": [
    "plt.figure(figsize=(10,6))\n",
    "sns.barplot(x='model', y='RMSE', data = model_comparison)\n",
    "plt.title('Comparison of defferent Machine Learning Models')\n",
    "plt.xlabel('ML Models')\n",
    "plt.ylabel('RMSE')\n",
    "plt.show()"
   ]
  },
  {
   "cell_type": "code",
   "execution_count": 52,
   "metadata": {
    "colab": {
     "base_uri": "https://localhost:8080/",
     "height": 404
    },
    "colab_type": "code",
    "executionInfo": {
     "elapsed": 34940,
     "status": "ok",
     "timestamp": 1594621658631,
     "user": {
      "displayName": "Soumya Mukherjee",
      "photoUrl": "https://lh3.googleusercontent.com/a-/AOh14GjsNLxeyhJYUq7v4GVjhxLJwHnUNQHnU7IouRdjYw=s64",
      "userId": "12914492972692522370"
     },
     "user_tz": -330
    },
    "id": "ySGM0hdSThrk",
    "outputId": "e7430c0d-b5b5-4cd3-fdc4-ec24185265a0"
   },
   "outputs": [
    {
     "data": {
      "image/png": "[encoded data removed]",
      "text/plain": [
       "<Figure size 720x432 with 1 Axes>"
      ]
     },
     "metadata": {
      "needs_background": "light",
      "tags": []
     },
     "output_type": "display_data"
    }
   ],
   "source": [
    "plt.figure(figsize=(10,6))\n",
    "sns.barplot(x='model', y='R-Squared', data = model_comparison)\n",
    "plt.title('Comparison of defferent Machine Learning Models')\n",
    "plt.xlabel('ML Models')\n",
    "plt.ylabel('R-Squared')\n",
    "plt.show()"
   ]
  },
  {
   "cell_type": "markdown",
   "metadata": {
    "colab_type": "text",
    "id": "S0o7Ef-dNcpB"
   },
   "source": [
    "**We can see that Random Forest performs well here.**"
   ]
  },
  {
   "cell_type": "markdown",
   "metadata": {
    "colab_type": "text",
    "id": "NeFgGaJzt6Kt"
   },
   "source": [
    "# **Hyper Tuning**"
   ]
  },
  {
   "cell_type": "markdown",
   "metadata": {
    "colab_type": "text",
    "id": "rYYqgr3QvblJ"
   },
   "source": [
    "There are two techniques of Hyperparameter tuning i.e 1) RandomizedSearchCv 2) GridSearchCV \n",
    "\n",
    "We use RandomizedSearchCv because it is much faster than GridSearchCV"
   ]
  },
  {
   "cell_type": "code",
   "execution_count": 53,
   "metadata": {
    "colab": {},
    "colab_type": "code",
    "executionInfo": {
     "elapsed": 34940,
     "status": "ok",
     "timestamp": 1594621658633,
     "user": {
      "displayName": "Soumya Mukherjee",
      "photoUrl": "https://lh3.googleusercontent.com/a-/AOh14GjsNLxeyhJYUq7v4GVjhxLJwHnUNQHnU7IouRdjYw=s64",
      "userId": "12914492972692522370"
     },
     "user_tz": -330
    },
    "id": "KCUyddYFt8sm"
   },
   "outputs": [],
   "source": [
    "# Number of trees in random forest\n",
    "n_estimators = [int(x) for x in np.linspace(start = 100, stop = 1200, num = 12)]\n",
    "# Number of features to consider at every split\n",
    "max_features = ['auto', 'sqrt']\n",
    "# Maximum number of levels in tree\n",
    "max_depth = [int(x) for x in np.linspace(5, 30, num = 6)]\n",
    "# Minimum number of samples required to split a node\n",
    "min_samples_split = [2, 5, 10, 15, 100]\n",
    "# Minimum number of samples required at each leaf node\n",
    "min_samples_leaf = [1, 2, 5, 10]\n",
    "\n",
    "param_grid = {\n",
    "    'n_estimators':n_estimators,\n",
    "    'max_features':max_features,\n",
    "    'max_depth':max_depth,\n",
    "    'min_samples_split':min_samples_split,\n",
    "    'min_samples_leaf':min_samples_leaf\n",
    "}"
   ]
  },
  {
   "cell_type": "code",
   "execution_count": 54,
   "metadata": {
    "colab": {},
    "colab_type": "code",
    "executionInfo": {
     "elapsed": 34938,
     "status": "ok",
     "timestamp": 1594621658634,
     "user": {
      "displayName": "Soumya Mukherjee",
      "photoUrl": "https://lh3.googleusercontent.com/a-/AOh14GjsNLxeyhJYUq7v4GVjhxLJwHnUNQHnU7IouRdjYw=s64",
      "userId": "12914492972692522370"
     },
     "user_tz": -330
    },
    "id": "1ieXKeXEu1YK"
   },
   "outputs": [],
   "source": [
    "random_cv = RandomizedSearchCV(estimator=RF, cv=5, random_state=10, param_distributions = param_grid, n_iter=10, \n",
    "                   verbose=2, n_jobs=-1, scoring='neg_mean_squared_error')"
   ]
  },
  {
   "cell_type": "code",
   "execution_count": 55,
   "metadata": {
    "colab": {
     "base_uri": "https://localhost:8080/",
     "height": 208
    },
    "colab_type": "code",
    "executionInfo": {
     "elapsed": 34924,
     "status": "ok",
     "timestamp": 1594621658635,
     "user": {
      "displayName": "Soumya Mukherjee",
      "photoUrl": "https://lh3.googleusercontent.com/a-/AOh14GjsNLxeyhJYUq7v4GVjhxLJwHnUNQHnU7IouRdjYw=s64",
      "userId": "12914492972692522370"
     },
     "user_tz": -330
    },
    "id": "9dyiQ8nZztdv",
    "outputId": "ca17cacd-dc7b-4f0b-f79c-ff0904bb18f7"
   },
   "outputs": [
    {
     "name": "stdout",
     "output_type": "stream",
     "text": [
      "Index(['Total_Stops', 'Journey_Month', 'Journey_Date', 'Dep_Hour',\n",
      "       'Dep_Minute', 'Arrival_Hour', 'Arrival_Minute', 'Duration_Hour',\n",
      "       'Duration_Minute', 'Source_Banglore', 'Source_Chennai', 'Source_Delhi',\n",
      "       'Source_Kolkata', 'Source_Mumbai', 'Destination_Banglore',\n",
      "       'Destination_Cochin', 'Destination_Delhi', 'Destination_Hyderabad',\n",
      "       'Destination_Kolkata', 'Airline_Air Asia', 'Airline_Air India',\n",
      "       'Airline_GoAir', 'Airline_IndiGo', 'Airline_Jet Airways',\n",
      "       'Airline_Jet Airways Business', 'Airline_Multiple carriers',\n",
      "       'Airline_Multiple carriers Premium economy', 'Airline_SpiceJet',\n",
      "       'Airline_Trujet', 'Airline_Vistara', 'Airline_Vistara Premium economy'],\n",
      "      dtype='object')\n"
     ]
    }
   ],
   "source": [
    "print(train_x.columns)"
   ]
  },
  {
   "cell_type": "code",
   "execution_count": 56,
   "metadata": {
    "colab": {
     "base_uri": "https://localhost:8080/",
     "height": 573
    },
    "colab_type": "code",
    "executionInfo": {
     "elapsed": 377095,
     "status": "ok",
     "timestamp": 1594622000820,
     "user": {
      "displayName": "Soumya Mukherjee",
      "photoUrl": "https://lh3.googleusercontent.com/a-/AOh14GjsNLxeyhJYUq7v4GVjhxLJwHnUNQHnU7IouRdjYw=s64",
      "userId": "12914492972692522370"
     },
     "user_tz": -330
    },
    "id": "1OfoOnTyxTiA",
    "outputId": "b6fa9e79-70e6-4e8d-b0d0-e968a4135a06"
   },
   "outputs": [
    {
     "name": "stdout",
     "output_type": "stream",
     "text": [
      "Fitting 5 folds for each of 10 candidates, totalling 50 fits\n"
     ]
    },
    {
     "name": "stderr",
     "output_type": "stream",
     "text": [
      "[Parallel(n_jobs=-1)]: Using backend LokyBackend with 2 concurrent workers.\n",
      "[Parallel(n_jobs=-1)]: Done  37 tasks      | elapsed:  4.6min\n",
      "[Parallel(n_jobs=-1)]: Done  50 out of  50 | elapsed:  5.4min finished\n"
     ]
    },
    {
     "data": {
      "text/plain": [
       "RandomizedSearchCV(cv=5, error_score=nan,\n",
       "                   estimator=RandomForestRegressor(bootstrap=True,\n",
       "                                                   ccp_alpha=0.0,\n",
       "                                                   criterion='mse',\n",
       "                                                   max_depth=None,\n",
       "                                                   max_features='auto',\n",
       "                                                   max_leaf_nodes=None,\n",
       "                                                   max_samples=None,\n",
       "                                                   min_impurity_decrease=0.0,\n",
       "                                                   min_impurity_split=None,\n",
       "                                                   min_samples_leaf=1,\n",
       "                                                   min_samples_split=2,\n",
       "                                                   min_weight_fraction_leaf=0.0,\n",
       "                                                   n_estimators=100,\n",
       "                                                   n_jobs=None, oob_score=Fals...\n",
       "                   iid='deprecated', n_iter=10, n_jobs=-1,\n",
       "                   param_distributions={'max_depth': [5, 10, 15, 20, 25, 30],\n",
       "                                        'max_features': ['auto', 'sqrt'],\n",
       "                                        'min_samples_leaf': [1, 2, 5, 10],\n",
       "                                        'min_samples_split': [2, 5, 10, 15,\n",
       "                                                              100],\n",
       "                                        'n_estimators': [100, 200, 300, 400,\n",
       "                                                         500, 600, 700, 800,\n",
       "                                                         900, 1000, 1100,\n",
       "                                                         1200]},\n",
       "                   pre_dispatch='2*n_jobs', random_state=10, refit=True,\n",
       "                   return_train_score=False, scoring='neg_mean_squared_error',\n",
       "                   verbose=2)"
      ]
     },
     "execution_count": 56,
     "metadata": {
      "tags": []
     },
     "output_type": "execute_result"
    }
   ],
   "source": [
    "random_cv.fit(train_x, train_y)"
   ]
  },
  {
   "cell_type": "code",
   "execution_count": 57,
   "metadata": {
    "colab": {
     "base_uri": "https://localhost:8080/",
     "height": 104
    },
    "colab_type": "code",
    "executionInfo": {
     "elapsed": 377089,
     "status": "ok",
     "timestamp": 1594622000828,
     "user": {
      "displayName": "Soumya Mukherjee",
      "photoUrl": "https://lh3.googleusercontent.com/a-/AOh14GjsNLxeyhJYUq7v4GVjhxLJwHnUNQHnU7IouRdjYw=s64",
      "userId": "12914492972692522370"
     },
     "user_tz": -330
    },
    "id": "6rH86FFCyrWp",
    "outputId": "45147ad5-aba7-4805-aeee-87b8faa8d1c6"
   },
   "outputs": [
    {
     "data": {
      "text/plain": [
       "{'max_depth': 25,\n",
       " 'max_features': 'auto',\n",
       " 'min_samples_leaf': 1,\n",
       " 'min_samples_split': 10,\n",
       " 'n_estimators': 600}"
      ]
     },
     "execution_count": 57,
     "metadata": {
      "tags": []
     },
     "output_type": "execute_result"
    }
   ],
   "source": [
    "random_cv.best_params_"
   ]
  },
  {
   "cell_type": "code",
   "execution_count": 58,
   "metadata": {
    "colab": {
     "base_uri": "https://localhost:8080/",
     "height": 139
    },
    "colab_type": "code",
    "executionInfo": {
     "elapsed": 377076,
     "status": "ok",
     "timestamp": 1594622000831,
     "user": {
      "displayName": "Soumya Mukherjee",
      "photoUrl": "https://lh3.googleusercontent.com/a-/AOh14GjsNLxeyhJYUq7v4GVjhxLJwHnUNQHnU7IouRdjYw=s64",
      "userId": "12914492972692522370"
     },
     "user_tz": -330
    },
    "id": "5XjIY2up0-Sk",
    "outputId": "5918fdb7-450e-4293-ed03-f03ff744cb5d"
   },
   "outputs": [
    {
     "data": {
      "text/plain": [
       "RandomForestRegressor(bootstrap=True, ccp_alpha=0.0, criterion='mse',\n",
       "                      max_depth=25, max_features='auto', max_leaf_nodes=None,\n",
       "                      max_samples=None, min_impurity_decrease=0.0,\n",
       "                      min_impurity_split=None, min_samples_leaf=1,\n",
       "                      min_samples_split=10, min_weight_fraction_leaf=0.0,\n",
       "                      n_estimators=600, n_jobs=None, oob_score=False,\n",
       "                      random_state=None, verbose=0, warm_start=False)"
      ]
     },
     "execution_count": 58,
     "metadata": {
      "tags": []
     },
     "output_type": "execute_result"
    }
   ],
   "source": [
    "random_cv.best_estimator_"
   ]
  },
  {
   "cell_type": "code",
   "execution_count": 59,
   "metadata": {
    "colab": {
     "base_uri": "https://localhost:8080/",
     "height": 139
    },
    "colab_type": "code",
    "executionInfo": {
     "elapsed": 396689,
     "status": "ok",
     "timestamp": 1594622020459,
     "user": {
      "displayName": "Soumya Mukherjee",
      "photoUrl": "https://lh3.googleusercontent.com/a-/AOh14GjsNLxeyhJYUq7v4GVjhxLJwHnUNQHnU7IouRdjYw=s64",
      "userId": "12914492972692522370"
     },
     "user_tz": -330
    },
    "id": "fhpAyN314mFK",
    "outputId": "81b136b5-83a9-43a7-a4f5-b133700ca3d3"
   },
   "outputs": [
    {
     "data": {
      "text/plain": [
       "RandomForestRegressor(bootstrap=True, ccp_alpha=0.0, criterion='mse',\n",
       "                      max_depth=25, max_features='auto', max_leaf_nodes=None,\n",
       "                      max_samples=None, min_impurity_decrease=0.0,\n",
       "                      min_impurity_split=None, min_samples_leaf=1,\n",
       "                      min_samples_split=10, min_weight_fraction_leaf=0.0,\n",
       "                      n_estimators=600, n_jobs=None, oob_score=False,\n",
       "                      random_state=None, verbose=0, warm_start=False)"
      ]
     },
     "execution_count": 59,
     "metadata": {
      "tags": []
     },
     "output_type": "execute_result"
    }
   ],
   "source": [
    "final_model = RandomForestRegressor(bootstrap=True, ccp_alpha=0.0, criterion='mse',\n",
    "                      max_depth=25, max_features='auto', max_leaf_nodes=None,\n",
    "                      max_samples=None, min_impurity_decrease=0.0,\n",
    "                      min_impurity_split=None, min_samples_leaf=1,\n",
    "                      min_samples_split=10, min_weight_fraction_leaf=0.0,\n",
    "                      n_estimators=600, n_jobs=None, oob_score=False,\n",
    "                      random_state=None, verbose=0, warm_start=False)\n",
    "\n",
    "final_model.fit(x, y)"
   ]
  },
  {
   "cell_type": "code",
   "execution_count": 60,
   "metadata": {
    "colab": {
     "base_uri": "https://localhost:8080/",
     "height": 260
    },
    "colab_type": "code",
    "executionInfo": {
     "elapsed": 396690,
     "status": "ok",
     "timestamp": 1594622020464,
     "user": {
      "displayName": "Soumya Mukherjee",
      "photoUrl": "https://lh3.googleusercontent.com/a-/AOh14GjsNLxeyhJYUq7v4GVjhxLJwHnUNQHnU7IouRdjYw=s64",
      "userId": "12914492972692522370"
     },
     "user_tz": -330
    },
    "id": "zwdbYlTT2dwB",
    "outputId": "f0679424-8c88-4362-a696-fe3255091045"
   },
   "outputs": [
    {
     "name": "stdout",
     "output_type": "stream",
     "text": [
      "Total no of columns :  31\n",
      "\n",
      "\n",
      "Columns :  Index(['Total_Stops', 'Journey_Month', 'Journey_Date', 'Dep_Hour',\n",
      "       'Dep_Minute', 'Arrival_Hour', 'Arrival_Minute', 'Duration_Hour',\n",
      "       'Duration_Minute', 'Source_Banglore', 'Source_Chennai', 'Source_Delhi',\n",
      "       'Source_Kolkata', 'Source_Mumbai', 'Destination_Banglore',\n",
      "       'Destination_Cochin', 'Destination_Delhi', 'Destination_Hyderabad',\n",
      "       'Destination_Kolkata', 'Airline_Air Asia', 'Airline_Air India',\n",
      "       'Airline_GoAir', 'Airline_IndiGo', 'Airline_Jet Airways',\n",
      "       'Airline_Jet Airways Business', 'Airline_Multiple carriers',\n",
      "       'Airline_Multiple carriers Premium economy', 'Airline_SpiceJet',\n",
      "       'Airline_Trujet', 'Airline_Vistara', 'Airline_Vistara Premium economy'],\n",
      "      dtype='object')\n"
     ]
    }
   ],
   "source": [
    "print('Total no of columns : ', len(x.columns))\n",
    "print('\\n\\nColumns : ', x.columns)"
   ]
  },
  {
   "cell_type": "code",
   "execution_count": 61,
   "metadata": {
    "colab": {},
    "colab_type": "code",
    "executionInfo": {
     "elapsed": 396691,
     "status": "ok",
     "timestamp": 1594622020468,
     "user": {
      "displayName": "Soumya Mukherjee",
      "photoUrl": "https://lh3.googleusercontent.com/a-/AOh14GjsNLxeyhJYUq7v4GVjhxLJwHnUNQHnU7IouRdjYw=s64",
      "userId": "12914492972692522370"
     },
     "user_tz": -330
    },
    "id": "L1ngLW0R8skr"
   },
   "outputs": [],
   "source": [
    "final_predict = final_model.predict(test_x)"
   ]
  },
  {
   "cell_type": "code",
   "execution_count": 62,
   "metadata": {
    "colab": {
     "base_uri": "https://localhost:8080/",
     "height": 52
    },
    "colab_type": "code",
    "executionInfo": {
     "elapsed": 397892,
     "status": "ok",
     "timestamp": 1594622021685,
     "user": {
      "displayName": "Soumya Mukherjee",
      "photoUrl": "https://lh3.googleusercontent.com/a-/AOh14GjsNLxeyhJYUq7v4GVjhxLJwHnUNQHnU7IouRdjYw=s64",
      "userId": "12914492972692522370"
     },
     "user_tz": -330
    },
    "id": "4AmUJtdj8G4Y",
    "outputId": "b3c55a27-4429-4bbf-de3e-4715b794457c"
   },
   "outputs": [
    {
     "name": "stdout",
     "output_type": "stream",
     "text": [
      "Train Score :  0.9163760872830761\n",
      "Test Score :  0.9078238146543397\n"
     ]
    }
   ],
   "source": [
    "print('Train Score : ',final_model.score(train_x, train_y))\n",
    "print('Test Score : ',final_model.score(test_x, test_y))"
   ]
  },
  {
   "cell_type": "code",
   "execution_count": 63,
   "metadata": {
    "colab": {
     "base_uri": "https://localhost:8080/",
     "height": 86
    },
    "colab_type": "code",
    "executionInfo": {
     "elapsed": 397883,
     "status": "ok",
     "timestamp": 1594622021689,
     "user": {
      "displayName": "Soumya Mukherjee",
      "photoUrl": "https://lh3.googleusercontent.com/a-/AOh14GjsNLxeyhJYUq7v4GVjhxLJwHnUNQHnU7IouRdjYw=s64",
      "userId": "12914492972692522370"
     },
     "user_tz": -330
    },
    "id": "kXdIECaH8Thl",
    "outputId": "14b342e0-3234-40b5-808d-4b5088373247"
   },
   "outputs": [
    {
     "name": "stdout",
     "output_type": "stream",
     "text": [
      "Mean Absolute Error :  852.6472839819387\n",
      "Mean Squared Error :  2162745.9646893134\n",
      "Root Mean Squar Error :  1470.6277451106766\n",
      "R^2 Error :  0.9078238146543397\n"
     ]
    }
   ],
   "source": [
    "print('Mean Absolute Error : ', mean_absolute_error(test_y, final_predict))\n",
    "print('Mean Squared Error : ', mean_squared_error(test_y, final_predict))\n",
    "print('Root Mean Squar Error : ', np.sqrt(mean_squared_error(test_y, final_predict)))\n",
    "print('R^2 Error : ',r2_score(test_y, final_predict))"
   ]
  },
  {
   "cell_type": "markdown",
   "metadata": {
    "colab_type": "text",
    "id": "umwab-jq9dVg"
   },
   "source": [
    "It's clearly seen that after hyper tuning performance got increased by 2%."
   ]
  },
  {
   "cell_type": "markdown",
   "metadata": {
    "colab_type": "text",
    "id": "dS_J_V6VmYzn"
   },
   "source": [
    "# Model Save\n",
    "\n"
   ]
  },
  {
   "cell_type": "code",
   "execution_count": 64,
   "metadata": {
    "colab": {},
    "colab_type": "code",
    "executionInfo": {
     "elapsed": 401131,
     "status": "ok",
     "timestamp": 1594622024941,
     "user": {
      "displayName": "Soumya Mukherjee",
      "photoUrl": "https://lh3.googleusercontent.com/a-/AOh14GjsNLxeyhJYUq7v4GVjhxLJwHnUNQHnU7IouRdjYw=s64",
      "userId": "12914492972692522370"
     },
     "user_tz": -330
    },
    "id": "Xc78ibrm9M-E"
   },
   "outputs": [],
   "source": [
    "filename = 'finalized_model.pkl'\n",
    "pickle.dump(final_model, open(filename, 'wb'))"
   ]
  },
  {
   "cell_type": "code",
   "execution_count": 64,
   "metadata": {
    "colab": {},
    "colab_type": "code",
    "executionInfo": {
     "elapsed": 401133,
     "status": "ok",
     "timestamp": 1594622024946,
     "user": {
      "displayName": "Soumya Mukherjee",
      "photoUrl": "https://lh3.googleusercontent.com/a-/AOh14GjsNLxeyhJYUq7v4GVjhxLJwHnUNQHnU7IouRdjYw=s64",
      "userId": "12914492972692522370"
     },
     "user_tz": -330
    },
    "id": "kwNfLUMJnQiM"
   },
   "outputs": [],
   "source": []
  }
 ],
 "metadata": {
  "colab": {
   "authorship_tag": "ABX9TyNyBcVvRak7lbcWftqsrtXL",
   "collapsed_sections": [],
   "mount_file_id": "1OF_6mj11jy3672007ArF98npb2__DsYA",
   "name": "Flight_Fare_Prediction.ipynb",
   "provenance": []
  },
  "kernelspec": {
   "display_name": "Python 3",
   "language": "python",
   "name": "python3"
  },
  "language_info": {
   "codemirror_mode": {
    "name": "ipython",
    "version": 3
   },
   "file_extension": ".py",
   "mimetype": "text/x-python",
   "name": "python",
   "nbconvert_exporter": "python",
   "pygments_lexer": "ipython3",
   "version": "3.8.8"
  }
 },
 "nbformat": 4,
 "nbformat_minor": 1
}
